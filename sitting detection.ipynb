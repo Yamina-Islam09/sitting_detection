{
 "cells": [
  {
   "cell_type": "code",
   "execution_count": 99,
   "id": "712f3fc4",
   "metadata": {},
   "outputs": [],
   "source": [
    "import pandas as pd\n",
    "import numpy as np\n",
    "import matplotlib.pyplot as plt\n",
    "from scipy import stats\n",
    "import tensorflow as tf\n",
    "import seaborn as sns\n",
    "from sklearn import metrics\n",
    "from sklearn.model_selection import train_test_split\n",
    "from sklearn.preprocessing import LabelEncoder\n",
    "from keras.utils import np_utils\n",
    "from sklearn import preprocessing\n",
    "%matplotlib inline\n",
    "from scipy.signal import butter, lfilter, freqz\n",
    "from sklearn.preprocessing import StandardScaler\n",
    "from sklearn.datasets import make_blobs\n",
    "from collections import Counter\n",
    "from imblearn.over_sampling import SMOTE\n",
    "from keras.models import Sequential\n",
    "from keras.layers import  Dense, LSTM, Dropout\n",
    "from keras.layers import Flatten\n",
    "from keras.regularizers import L1L2\n",
    "import keras_tuner as kt\n",
    "from keras import regularizers"
   ]
  },
  {
   "cell_type": "code",
   "execution_count": 100,
   "id": "9ec57596",
   "metadata": {},
   "outputs": [
    {
     "data": {
      "text/html": [
       "<div>\n",
       "<style scoped>\n",
       "    .dataframe tbody tr th:only-of-type {\n",
       "        vertical-align: middle;\n",
       "    }\n",
       "\n",
       "    .dataframe tbody tr th {\n",
       "        vertical-align: top;\n",
       "    }\n",
       "\n",
       "    .dataframe thead th {\n",
       "        text-align: right;\n",
       "    }\n",
       "</style>\n",
       "<table border=\"1\" class=\"dataframe\">\n",
       "  <thead>\n",
       "    <tr style=\"text-align: right;\">\n",
       "      <th></th>\n",
       "      <th>Acc_X</th>\n",
       "      <th>Acc_Y</th>\n",
       "      <th>Acc_Z</th>\n",
       "    </tr>\n",
       "  </thead>\n",
       "  <tbody>\n",
       "    <tr>\n",
       "      <th>0</th>\n",
       "      <td>-6.205486</td>\n",
       "      <td>-1.015903</td>\n",
       "      <td>7.589884</td>\n",
       "    </tr>\n",
       "    <tr>\n",
       "      <th>1</th>\n",
       "      <td>-6.209225</td>\n",
       "      <td>-1.021436</td>\n",
       "      <td>7.584799</td>\n",
       "    </tr>\n",
       "    <tr>\n",
       "      <th>2</th>\n",
       "      <td>-6.223582</td>\n",
       "      <td>-1.031307</td>\n",
       "      <td>7.569993</td>\n",
       "    </tr>\n",
       "    <tr>\n",
       "      <th>3</th>\n",
       "      <td>-6.228817</td>\n",
       "      <td>-1.034298</td>\n",
       "      <td>7.561918</td>\n",
       "    </tr>\n",
       "    <tr>\n",
       "      <th>4</th>\n",
       "      <td>-6.228518</td>\n",
       "      <td>-1.033101</td>\n",
       "      <td>7.566105</td>\n",
       "    </tr>\n",
       "    <tr>\n",
       "      <th>...</th>\n",
       "      <td>...</td>\n",
       "      <td>...</td>\n",
       "      <td>...</td>\n",
       "    </tr>\n",
       "    <tr>\n",
       "      <th>588</th>\n",
       "      <td>-6.116204</td>\n",
       "      <td>-1.027717</td>\n",
       "      <td>7.653593</td>\n",
       "    </tr>\n",
       "    <tr>\n",
       "      <th>589</th>\n",
       "      <td>-6.117251</td>\n",
       "      <td>-1.022034</td>\n",
       "      <td>7.658528</td>\n",
       "    </tr>\n",
       "    <tr>\n",
       "      <th>590</th>\n",
       "      <td>-6.111419</td>\n",
       "      <td>-1.019642</td>\n",
       "      <td>7.665257</td>\n",
       "    </tr>\n",
       "    <tr>\n",
       "      <th>591</th>\n",
       "      <td>-6.103044</td>\n",
       "      <td>-1.009921</td>\n",
       "      <td>7.669296</td>\n",
       "    </tr>\n",
       "    <tr>\n",
       "      <th>592</th>\n",
       "      <td>-6.092725</td>\n",
       "      <td>-1.007229</td>\n",
       "      <td>7.675876</td>\n",
       "    </tr>\n",
       "  </tbody>\n",
       "</table>\n",
       "<p>593 rows × 3 columns</p>\n",
       "</div>"
      ],
      "text/plain": [
       "        Acc_X     Acc_Y     Acc_Z\n",
       "0   -6.205486 -1.015903  7.589884\n",
       "1   -6.209225 -1.021436  7.584799\n",
       "2   -6.223582 -1.031307  7.569993\n",
       "3   -6.228817 -1.034298  7.561918\n",
       "4   -6.228518 -1.033101  7.566105\n",
       "..        ...       ...       ...\n",
       "588 -6.116204 -1.027717  7.653593\n",
       "589 -6.117251 -1.022034  7.658528\n",
       "590 -6.111419 -1.019642  7.665257\n",
       "591 -6.103044 -1.009921  7.669296\n",
       "592 -6.092725 -1.007229  7.675876\n",
       "\n",
       "[593 rows x 3 columns]"
      ]
     },
     "execution_count": 100,
     "metadata": {},
     "output_type": "execute_result"
    }
   ],
   "source": [
    "df = pd.read_csv(\"sitting.csv\")\n",
    "df"
   ]
  },
  {
   "cell_type": "code",
   "execution_count": 101,
   "id": "3d006847",
   "metadata": {},
   "outputs": [
    {
     "data": {
      "text/plain": [
       "(593, 3)"
      ]
     },
     "execution_count": 101,
     "metadata": {},
     "output_type": "execute_result"
    }
   ],
   "source": [
    "df.shape"
   ]
  },
  {
   "cell_type": "code",
   "execution_count": 102,
   "id": "9076b5f1",
   "metadata": {},
   "outputs": [],
   "source": [
    "X = df"
   ]
  },
  {
   "cell_type": "code",
   "execution_count": 103,
   "id": "d5df59f2",
   "metadata": {},
   "outputs": [
    {
     "name": "stdout",
     "output_type": "stream",
     "text": [
      "DF HEAD:  <bound method NDFrame.head of         Acc_X     Acc_Y     Acc_Z\n",
      "0   -6.205486 -1.015903  7.589884\n",
      "1   -6.209225 -1.021436  7.584799\n",
      "2   -6.223582 -1.031307  7.569993\n",
      "3   -6.228817 -1.034298  7.561918\n",
      "4   -6.228518 -1.033101  7.566105\n",
      "..        ...       ...       ...\n",
      "588 -6.116204 -1.027717  7.653593\n",
      "589 -6.117251 -1.022034  7.658528\n",
      "590 -6.111419 -1.019642  7.665257\n",
      "591 -6.103044 -1.009921  7.669296\n",
      "592 -6.092725 -1.007229  7.675876\n",
      "\n",
      "[593 rows x 3 columns]>\n",
      "DF DTYPE:  Acc_X    float64\n",
      "Acc_Y    float64\n",
      "Acc_Z    float64\n",
      "dtype: object\n",
      "DF SHAPE:  (593, 3)\n",
      "DF ISNULL:  Acc_X    0\n",
      "Acc_Y    0\n",
      "Acc_Z    0\n",
      "dtype: int64\n"
     ]
    }
   ],
   "source": [
    "print(\"DF HEAD: \",df.head)\n",
    "print(\"DF DTYPE: \",df.dtypes)\n",
    "print(\"DF SHAPE: \",df.shape)\n",
    "\n",
    "print(\"DF ISNULL: \",df.isnull().sum())"
   ]
  },
  {
   "cell_type": "code",
   "execution_count": 104,
   "id": "fadad79f",
   "metadata": {},
   "outputs": [
    {
     "data": {
      "application/vnd.plotly.v1+json": {
       "config": {
        "plotlyServerURL": "https://plot.ly"
       },
       "data": [
        {
         "alignmentgroup": "True",
         "hovertemplate": "variable=0<br>index=%{x}<br>value=%{y}<extra></extra>",
         "legendgroup": "0",
         "marker": {
          "color": "#636efa",
          "pattern": {
           "shape": ""
          }
         },
         "name": "0",
         "offsetgroup": "0",
         "orientation": "v",
         "showlegend": true,
         "textposition": "auto",
         "type": "bar",
         "x": [
          "Acc_X",
          "Acc_Y",
          "Acc_Z"
         ],
         "xaxis": "x",
         "y": [
          0,
          0,
          0
         ],
         "yaxis": "y"
        }
       ],
       "layout": {
        "barmode": "relative",
        "legend": {
         "title": {
          "text": "variable"
         },
         "tracegroupgap": 0
        },
        "template": {
         "data": {
          "bar": [
           {
            "error_x": {
             "color": "#2a3f5f"
            },
            "error_y": {
             "color": "#2a3f5f"
            },
            "marker": {
             "line": {
              "color": "#E5ECF6",
              "width": 0.5
             },
             "pattern": {
              "fillmode": "overlay",
              "size": 10,
              "solidity": 0.2
             }
            },
            "type": "bar"
           }
          ],
          "barpolar": [
           {
            "marker": {
             "line": {
              "color": "#E5ECF6",
              "width": 0.5
             },
             "pattern": {
              "fillmode": "overlay",
              "size": 10,
              "solidity": 0.2
             }
            },
            "type": "barpolar"
           }
          ],
          "carpet": [
           {
            "aaxis": {
             "endlinecolor": "#2a3f5f",
             "gridcolor": "white",
             "linecolor": "white",
             "minorgridcolor": "white",
             "startlinecolor": "#2a3f5f"
            },
            "baxis": {
             "endlinecolor": "#2a3f5f",
             "gridcolor": "white",
             "linecolor": "white",
             "minorgridcolor": "white",
             "startlinecolor": "#2a3f5f"
            },
            "type": "carpet"
           }
          ],
          "choropleth": [
           {
            "colorbar": {
             "outlinewidth": 0,
             "ticks": ""
            },
            "type": "choropleth"
           }
          ],
          "contour": [
           {
            "colorbar": {
             "outlinewidth": 0,
             "ticks": ""
            },
            "colorscale": [
             [
              0,
              "#0d0887"
             ],
             [
              0.1111111111111111,
              "#46039f"
             ],
             [
              0.2222222222222222,
              "#7201a8"
             ],
             [
              0.3333333333333333,
              "#9c179e"
             ],
             [
              0.4444444444444444,
              "#bd3786"
             ],
             [
              0.5555555555555556,
              "#d8576b"
             ],
             [
              0.6666666666666666,
              "#ed7953"
             ],
             [
              0.7777777777777778,
              "#fb9f3a"
             ],
             [
              0.8888888888888888,
              "#fdca26"
             ],
             [
              1,
              "#f0f921"
             ]
            ],
            "type": "contour"
           }
          ],
          "contourcarpet": [
           {
            "colorbar": {
             "outlinewidth": 0,
             "ticks": ""
            },
            "type": "contourcarpet"
           }
          ],
          "heatmap": [
           {
            "colorbar": {
             "outlinewidth": 0,
             "ticks": ""
            },
            "colorscale": [
             [
              0,
              "#0d0887"
             ],
             [
              0.1111111111111111,
              "#46039f"
             ],
             [
              0.2222222222222222,
              "#7201a8"
             ],
             [
              0.3333333333333333,
              "#9c179e"
             ],
             [
              0.4444444444444444,
              "#bd3786"
             ],
             [
              0.5555555555555556,
              "#d8576b"
             ],
             [
              0.6666666666666666,
              "#ed7953"
             ],
             [
              0.7777777777777778,
              "#fb9f3a"
             ],
             [
              0.8888888888888888,
              "#fdca26"
             ],
             [
              1,
              "#f0f921"
             ]
            ],
            "type": "heatmap"
           }
          ],
          "heatmapgl": [
           {
            "colorbar": {
             "outlinewidth": 0,
             "ticks": ""
            },
            "colorscale": [
             [
              0,
              "#0d0887"
             ],
             [
              0.1111111111111111,
              "#46039f"
             ],
             [
              0.2222222222222222,
              "#7201a8"
             ],
             [
              0.3333333333333333,
              "#9c179e"
             ],
             [
              0.4444444444444444,
              "#bd3786"
             ],
             [
              0.5555555555555556,
              "#d8576b"
             ],
             [
              0.6666666666666666,
              "#ed7953"
             ],
             [
              0.7777777777777778,
              "#fb9f3a"
             ],
             [
              0.8888888888888888,
              "#fdca26"
             ],
             [
              1,
              "#f0f921"
             ]
            ],
            "type": "heatmapgl"
           }
          ],
          "histogram": [
           {
            "marker": {
             "pattern": {
              "fillmode": "overlay",
              "size": 10,
              "solidity": 0.2
             }
            },
            "type": "histogram"
           }
          ],
          "histogram2d": [
           {
            "colorbar": {
             "outlinewidth": 0,
             "ticks": ""
            },
            "colorscale": [
             [
              0,
              "#0d0887"
             ],
             [
              0.1111111111111111,
              "#46039f"
             ],
             [
              0.2222222222222222,
              "#7201a8"
             ],
             [
              0.3333333333333333,
              "#9c179e"
             ],
             [
              0.4444444444444444,
              "#bd3786"
             ],
             [
              0.5555555555555556,
              "#d8576b"
             ],
             [
              0.6666666666666666,
              "#ed7953"
             ],
             [
              0.7777777777777778,
              "#fb9f3a"
             ],
             [
              0.8888888888888888,
              "#fdca26"
             ],
             [
              1,
              "#f0f921"
             ]
            ],
            "type": "histogram2d"
           }
          ],
          "histogram2dcontour": [
           {
            "colorbar": {
             "outlinewidth": 0,
             "ticks": ""
            },
            "colorscale": [
             [
              0,
              "#0d0887"
             ],
             [
              0.1111111111111111,
              "#46039f"
             ],
             [
              0.2222222222222222,
              "#7201a8"
             ],
             [
              0.3333333333333333,
              "#9c179e"
             ],
             [
              0.4444444444444444,
              "#bd3786"
             ],
             [
              0.5555555555555556,
              "#d8576b"
             ],
             [
              0.6666666666666666,
              "#ed7953"
             ],
             [
              0.7777777777777778,
              "#fb9f3a"
             ],
             [
              0.8888888888888888,
              "#fdca26"
             ],
             [
              1,
              "#f0f921"
             ]
            ],
            "type": "histogram2dcontour"
           }
          ],
          "mesh3d": [
           {
            "colorbar": {
             "outlinewidth": 0,
             "ticks": ""
            },
            "type": "mesh3d"
           }
          ],
          "parcoords": [
           {
            "line": {
             "colorbar": {
              "outlinewidth": 0,
              "ticks": ""
             }
            },
            "type": "parcoords"
           }
          ],
          "pie": [
           {
            "automargin": true,
            "type": "pie"
           }
          ],
          "scatter": [
           {
            "fillpattern": {
             "fillmode": "overlay",
             "size": 10,
             "solidity": 0.2
            },
            "type": "scatter"
           }
          ],
          "scatter3d": [
           {
            "line": {
             "colorbar": {
              "outlinewidth": 0,
              "ticks": ""
             }
            },
            "marker": {
             "colorbar": {
              "outlinewidth": 0,
              "ticks": ""
             }
            },
            "type": "scatter3d"
           }
          ],
          "scattercarpet": [
           {
            "marker": {
             "colorbar": {
              "outlinewidth": 0,
              "ticks": ""
             }
            },
            "type": "scattercarpet"
           }
          ],
          "scattergeo": [
           {
            "marker": {
             "colorbar": {
              "outlinewidth": 0,
              "ticks": ""
             }
            },
            "type": "scattergeo"
           }
          ],
          "scattergl": [
           {
            "marker": {
             "colorbar": {
              "outlinewidth": 0,
              "ticks": ""
             }
            },
            "type": "scattergl"
           }
          ],
          "scattermapbox": [
           {
            "marker": {
             "colorbar": {
              "outlinewidth": 0,
              "ticks": ""
             }
            },
            "type": "scattermapbox"
           }
          ],
          "scatterpolar": [
           {
            "marker": {
             "colorbar": {
              "outlinewidth": 0,
              "ticks": ""
             }
            },
            "type": "scatterpolar"
           }
          ],
          "scatterpolargl": [
           {
            "marker": {
             "colorbar": {
              "outlinewidth": 0,
              "ticks": ""
             }
            },
            "type": "scatterpolargl"
           }
          ],
          "scatterternary": [
           {
            "marker": {
             "colorbar": {
              "outlinewidth": 0,
              "ticks": ""
             }
            },
            "type": "scatterternary"
           }
          ],
          "surface": [
           {
            "colorbar": {
             "outlinewidth": 0,
             "ticks": ""
            },
            "colorscale": [
             [
              0,
              "#0d0887"
             ],
             [
              0.1111111111111111,
              "#46039f"
             ],
             [
              0.2222222222222222,
              "#7201a8"
             ],
             [
              0.3333333333333333,
              "#9c179e"
             ],
             [
              0.4444444444444444,
              "#bd3786"
             ],
             [
              0.5555555555555556,
              "#d8576b"
             ],
             [
              0.6666666666666666,
              "#ed7953"
             ],
             [
              0.7777777777777778,
              "#fb9f3a"
             ],
             [
              0.8888888888888888,
              "#fdca26"
             ],
             [
              1,
              "#f0f921"
             ]
            ],
            "type": "surface"
           }
          ],
          "table": [
           {
            "cells": {
             "fill": {
              "color": "#EBF0F8"
             },
             "line": {
              "color": "white"
             }
            },
            "header": {
             "fill": {
              "color": "#C8D4E3"
             },
             "line": {
              "color": "white"
             }
            },
            "type": "table"
           }
          ]
         },
         "layout": {
          "annotationdefaults": {
           "arrowcolor": "#2a3f5f",
           "arrowhead": 0,
           "arrowwidth": 1
          },
          "autotypenumbers": "strict",
          "coloraxis": {
           "colorbar": {
            "outlinewidth": 0,
            "ticks": ""
           }
          },
          "colorscale": {
           "diverging": [
            [
             0,
             "#8e0152"
            ],
            [
             0.1,
             "#c51b7d"
            ],
            [
             0.2,
             "#de77ae"
            ],
            [
             0.3,
             "#f1b6da"
            ],
            [
             0.4,
             "#fde0ef"
            ],
            [
             0.5,
             "#f7f7f7"
            ],
            [
             0.6,
             "#e6f5d0"
            ],
            [
             0.7,
             "#b8e186"
            ],
            [
             0.8,
             "#7fbc41"
            ],
            [
             0.9,
             "#4d9221"
            ],
            [
             1,
             "#276419"
            ]
           ],
           "sequential": [
            [
             0,
             "#0d0887"
            ],
            [
             0.1111111111111111,
             "#46039f"
            ],
            [
             0.2222222222222222,
             "#7201a8"
            ],
            [
             0.3333333333333333,
             "#9c179e"
            ],
            [
             0.4444444444444444,
             "#bd3786"
            ],
            [
             0.5555555555555556,
             "#d8576b"
            ],
            [
             0.6666666666666666,
             "#ed7953"
            ],
            [
             0.7777777777777778,
             "#fb9f3a"
            ],
            [
             0.8888888888888888,
             "#fdca26"
            ],
            [
             1,
             "#f0f921"
            ]
           ],
           "sequentialminus": [
            [
             0,
             "#0d0887"
            ],
            [
             0.1111111111111111,
             "#46039f"
            ],
            [
             0.2222222222222222,
             "#7201a8"
            ],
            [
             0.3333333333333333,
             "#9c179e"
            ],
            [
             0.4444444444444444,
             "#bd3786"
            ],
            [
             0.5555555555555556,
             "#d8576b"
            ],
            [
             0.6666666666666666,
             "#ed7953"
            ],
            [
             0.7777777777777778,
             "#fb9f3a"
            ],
            [
             0.8888888888888888,
             "#fdca26"
            ],
            [
             1,
             "#f0f921"
            ]
           ]
          },
          "colorway": [
           "#636efa",
           "#EF553B",
           "#00cc96",
           "#ab63fa",
           "#FFA15A",
           "#19d3f3",
           "#FF6692",
           "#B6E880",
           "#FF97FF",
           "#FECB52"
          ],
          "font": {
           "color": "#2a3f5f"
          },
          "geo": {
           "bgcolor": "white",
           "lakecolor": "white",
           "landcolor": "#E5ECF6",
           "showlakes": true,
           "showland": true,
           "subunitcolor": "white"
          },
          "hoverlabel": {
           "align": "left"
          },
          "hovermode": "closest",
          "mapbox": {
           "style": "light"
          },
          "paper_bgcolor": "white",
          "plot_bgcolor": "#E5ECF6",
          "polar": {
           "angularaxis": {
            "gridcolor": "white",
            "linecolor": "white",
            "ticks": ""
           },
           "bgcolor": "#E5ECF6",
           "radialaxis": {
            "gridcolor": "white",
            "linecolor": "white",
            "ticks": ""
           }
          },
          "scene": {
           "xaxis": {
            "backgroundcolor": "#E5ECF6",
            "gridcolor": "white",
            "gridwidth": 2,
            "linecolor": "white",
            "showbackground": true,
            "ticks": "",
            "zerolinecolor": "white"
           },
           "yaxis": {
            "backgroundcolor": "#E5ECF6",
            "gridcolor": "white",
            "gridwidth": 2,
            "linecolor": "white",
            "showbackground": true,
            "ticks": "",
            "zerolinecolor": "white"
           },
           "zaxis": {
            "backgroundcolor": "#E5ECF6",
            "gridcolor": "white",
            "gridwidth": 2,
            "linecolor": "white",
            "showbackground": true,
            "ticks": "",
            "zerolinecolor": "white"
           }
          },
          "shapedefaults": {
           "line": {
            "color": "#2a3f5f"
           }
          },
          "ternary": {
           "aaxis": {
            "gridcolor": "white",
            "linecolor": "white",
            "ticks": ""
           },
           "baxis": {
            "gridcolor": "white",
            "linecolor": "white",
            "ticks": ""
           },
           "bgcolor": "#E5ECF6",
           "caxis": {
            "gridcolor": "white",
            "linecolor": "white",
            "ticks": ""
           }
          },
          "title": {
           "x": 0.05
          },
          "xaxis": {
           "automargin": true,
           "gridcolor": "white",
           "linecolor": "white",
           "ticks": "",
           "title": {
            "standoff": 15
           },
           "zerolinecolor": "white",
           "zerolinewidth": 2
          },
          "yaxis": {
           "automargin": true,
           "gridcolor": "white",
           "linecolor": "white",
           "ticks": "",
           "title": {
            "standoff": 15
           },
           "zerolinecolor": "white",
           "zerolinewidth": 2
          }
         }
        },
        "title": {
         "text": "Checking for Null values"
        },
        "xaxis": {
         "anchor": "y",
         "domain": [
          0,
          1
         ],
         "title": {
          "text": "index"
         }
        },
        "yaxis": {
         "anchor": "x",
         "domain": [
          0,
          1
         ],
         "title": {
          "text": "value"
         }
        }
       }
      },
      "text/html": [
       "<div>                            <div id=\"8f7b60a0-a7cd-420e-baf5-91037498c200\" class=\"plotly-graph-div\" style=\"height:525px; width:100%;\"></div>            <script type=\"text/javascript\">                require([\"plotly\"], function(Plotly) {                    window.PLOTLYENV=window.PLOTLYENV || {};                                    if (document.getElementById(\"8f7b60a0-a7cd-420e-baf5-91037498c200\")) {                    Plotly.newPlot(                        \"8f7b60a0-a7cd-420e-baf5-91037498c200\",                        [{\"alignmentgroup\":\"True\",\"hovertemplate\":\"variable=0<br>index=%{x}<br>value=%{y}<extra></extra>\",\"legendgroup\":\"0\",\"marker\":{\"color\":\"#636efa\",\"pattern\":{\"shape\":\"\"}},\"name\":\"0\",\"offsetgroup\":\"0\",\"orientation\":\"v\",\"showlegend\":true,\"textposition\":\"auto\",\"x\":[\"Acc_X\",\"Acc_Y\",\"Acc_Z\"],\"xaxis\":\"x\",\"y\":[0,0,0],\"yaxis\":\"y\",\"type\":\"bar\"}],                        {\"template\":{\"data\":{\"histogram2dcontour\":[{\"type\":\"histogram2dcontour\",\"colorbar\":{\"outlinewidth\":0,\"ticks\":\"\"},\"colorscale\":[[0.0,\"#0d0887\"],[0.1111111111111111,\"#46039f\"],[0.2222222222222222,\"#7201a8\"],[0.3333333333333333,\"#9c179e\"],[0.4444444444444444,\"#bd3786\"],[0.5555555555555556,\"#d8576b\"],[0.6666666666666666,\"#ed7953\"],[0.7777777777777778,\"#fb9f3a\"],[0.8888888888888888,\"#fdca26\"],[1.0,\"#f0f921\"]]}],\"choropleth\":[{\"type\":\"choropleth\",\"colorbar\":{\"outlinewidth\":0,\"ticks\":\"\"}}],\"histogram2d\":[{\"type\":\"histogram2d\",\"colorbar\":{\"outlinewidth\":0,\"ticks\":\"\"},\"colorscale\":[[0.0,\"#0d0887\"],[0.1111111111111111,\"#46039f\"],[0.2222222222222222,\"#7201a8\"],[0.3333333333333333,\"#9c179e\"],[0.4444444444444444,\"#bd3786\"],[0.5555555555555556,\"#d8576b\"],[0.6666666666666666,\"#ed7953\"],[0.7777777777777778,\"#fb9f3a\"],[0.8888888888888888,\"#fdca26\"],[1.0,\"#f0f921\"]]}],\"heatmap\":[{\"type\":\"heatmap\",\"colorbar\":{\"outlinewidth\":0,\"ticks\":\"\"},\"colorscale\":[[0.0,\"#0d0887\"],[0.1111111111111111,\"#46039f\"],[0.2222222222222222,\"#7201a8\"],[0.3333333333333333,\"#9c179e\"],[0.4444444444444444,\"#bd3786\"],[0.5555555555555556,\"#d8576b\"],[0.6666666666666666,\"#ed7953\"],[0.7777777777777778,\"#fb9f3a\"],[0.8888888888888888,\"#fdca26\"],[1.0,\"#f0f921\"]]}],\"heatmapgl\":[{\"type\":\"heatmapgl\",\"colorbar\":{\"outlinewidth\":0,\"ticks\":\"\"},\"colorscale\":[[0.0,\"#0d0887\"],[0.1111111111111111,\"#46039f\"],[0.2222222222222222,\"#7201a8\"],[0.3333333333333333,\"#9c179e\"],[0.4444444444444444,\"#bd3786\"],[0.5555555555555556,\"#d8576b\"],[0.6666666666666666,\"#ed7953\"],[0.7777777777777778,\"#fb9f3a\"],[0.8888888888888888,\"#fdca26\"],[1.0,\"#f0f921\"]]}],\"contourcarpet\":[{\"type\":\"contourcarpet\",\"colorbar\":{\"outlinewidth\":0,\"ticks\":\"\"}}],\"contour\":[{\"type\":\"contour\",\"colorbar\":{\"outlinewidth\":0,\"ticks\":\"\"},\"colorscale\":[[0.0,\"#0d0887\"],[0.1111111111111111,\"#46039f\"],[0.2222222222222222,\"#7201a8\"],[0.3333333333333333,\"#9c179e\"],[0.4444444444444444,\"#bd3786\"],[0.5555555555555556,\"#d8576b\"],[0.6666666666666666,\"#ed7953\"],[0.7777777777777778,\"#fb9f3a\"],[0.8888888888888888,\"#fdca26\"],[1.0,\"#f0f921\"]]}],\"surface\":[{\"type\":\"surface\",\"colorbar\":{\"outlinewidth\":0,\"ticks\":\"\"},\"colorscale\":[[0.0,\"#0d0887\"],[0.1111111111111111,\"#46039f\"],[0.2222222222222222,\"#7201a8\"],[0.3333333333333333,\"#9c179e\"],[0.4444444444444444,\"#bd3786\"],[0.5555555555555556,\"#d8576b\"],[0.6666666666666666,\"#ed7953\"],[0.7777777777777778,\"#fb9f3a\"],[0.8888888888888888,\"#fdca26\"],[1.0,\"#f0f921\"]]}],\"mesh3d\":[{\"type\":\"mesh3d\",\"colorbar\":{\"outlinewidth\":0,\"ticks\":\"\"}}],\"scatter\":[{\"fillpattern\":{\"fillmode\":\"overlay\",\"size\":10,\"solidity\":0.2},\"type\":\"scatter\"}],\"parcoords\":[{\"type\":\"parcoords\",\"line\":{\"colorbar\":{\"outlinewidth\":0,\"ticks\":\"\"}}}],\"scatterpolargl\":[{\"type\":\"scatterpolargl\",\"marker\":{\"colorbar\":{\"outlinewidth\":0,\"ticks\":\"\"}}}],\"bar\":[{\"error_x\":{\"color\":\"#2a3f5f\"},\"error_y\":{\"color\":\"#2a3f5f\"},\"marker\":{\"line\":{\"color\":\"#E5ECF6\",\"width\":0.5},\"pattern\":{\"fillmode\":\"overlay\",\"size\":10,\"solidity\":0.2}},\"type\":\"bar\"}],\"scattergeo\":[{\"type\":\"scattergeo\",\"marker\":{\"colorbar\":{\"outlinewidth\":0,\"ticks\":\"\"}}}],\"scatterpolar\":[{\"type\":\"scatterpolar\",\"marker\":{\"colorbar\":{\"outlinewidth\":0,\"ticks\":\"\"}}}],\"histogram\":[{\"marker\":{\"pattern\":{\"fillmode\":\"overlay\",\"size\":10,\"solidity\":0.2}},\"type\":\"histogram\"}],\"scattergl\":[{\"type\":\"scattergl\",\"marker\":{\"colorbar\":{\"outlinewidth\":0,\"ticks\":\"\"}}}],\"scatter3d\":[{\"type\":\"scatter3d\",\"line\":{\"colorbar\":{\"outlinewidth\":0,\"ticks\":\"\"}},\"marker\":{\"colorbar\":{\"outlinewidth\":0,\"ticks\":\"\"}}}],\"scattermapbox\":[{\"type\":\"scattermapbox\",\"marker\":{\"colorbar\":{\"outlinewidth\":0,\"ticks\":\"\"}}}],\"scatterternary\":[{\"type\":\"scatterternary\",\"marker\":{\"colorbar\":{\"outlinewidth\":0,\"ticks\":\"\"}}}],\"scattercarpet\":[{\"type\":\"scattercarpet\",\"marker\":{\"colorbar\":{\"outlinewidth\":0,\"ticks\":\"\"}}}],\"carpet\":[{\"aaxis\":{\"endlinecolor\":\"#2a3f5f\",\"gridcolor\":\"white\",\"linecolor\":\"white\",\"minorgridcolor\":\"white\",\"startlinecolor\":\"#2a3f5f\"},\"baxis\":{\"endlinecolor\":\"#2a3f5f\",\"gridcolor\":\"white\",\"linecolor\":\"white\",\"minorgridcolor\":\"white\",\"startlinecolor\":\"#2a3f5f\"},\"type\":\"carpet\"}],\"table\":[{\"cells\":{\"fill\":{\"color\":\"#EBF0F8\"},\"line\":{\"color\":\"white\"}},\"header\":{\"fill\":{\"color\":\"#C8D4E3\"},\"line\":{\"color\":\"white\"}},\"type\":\"table\"}],\"barpolar\":[{\"marker\":{\"line\":{\"color\":\"#E5ECF6\",\"width\":0.5},\"pattern\":{\"fillmode\":\"overlay\",\"size\":10,\"solidity\":0.2}},\"type\":\"barpolar\"}],\"pie\":[{\"automargin\":true,\"type\":\"pie\"}]},\"layout\":{\"autotypenumbers\":\"strict\",\"colorway\":[\"#636efa\",\"#EF553B\",\"#00cc96\",\"#ab63fa\",\"#FFA15A\",\"#19d3f3\",\"#FF6692\",\"#B6E880\",\"#FF97FF\",\"#FECB52\"],\"font\":{\"color\":\"#2a3f5f\"},\"hovermode\":\"closest\",\"hoverlabel\":{\"align\":\"left\"},\"paper_bgcolor\":\"white\",\"plot_bgcolor\":\"#E5ECF6\",\"polar\":{\"bgcolor\":\"#E5ECF6\",\"angularaxis\":{\"gridcolor\":\"white\",\"linecolor\":\"white\",\"ticks\":\"\"},\"radialaxis\":{\"gridcolor\":\"white\",\"linecolor\":\"white\",\"ticks\":\"\"}},\"ternary\":{\"bgcolor\":\"#E5ECF6\",\"aaxis\":{\"gridcolor\":\"white\",\"linecolor\":\"white\",\"ticks\":\"\"},\"baxis\":{\"gridcolor\":\"white\",\"linecolor\":\"white\",\"ticks\":\"\"},\"caxis\":{\"gridcolor\":\"white\",\"linecolor\":\"white\",\"ticks\":\"\"}},\"coloraxis\":{\"colorbar\":{\"outlinewidth\":0,\"ticks\":\"\"}},\"colorscale\":{\"sequential\":[[0.0,\"#0d0887\"],[0.1111111111111111,\"#46039f\"],[0.2222222222222222,\"#7201a8\"],[0.3333333333333333,\"#9c179e\"],[0.4444444444444444,\"#bd3786\"],[0.5555555555555556,\"#d8576b\"],[0.6666666666666666,\"#ed7953\"],[0.7777777777777778,\"#fb9f3a\"],[0.8888888888888888,\"#fdca26\"],[1.0,\"#f0f921\"]],\"sequentialminus\":[[0.0,\"#0d0887\"],[0.1111111111111111,\"#46039f\"],[0.2222222222222222,\"#7201a8\"],[0.3333333333333333,\"#9c179e\"],[0.4444444444444444,\"#bd3786\"],[0.5555555555555556,\"#d8576b\"],[0.6666666666666666,\"#ed7953\"],[0.7777777777777778,\"#fb9f3a\"],[0.8888888888888888,\"#fdca26\"],[1.0,\"#f0f921\"]],\"diverging\":[[0,\"#8e0152\"],[0.1,\"#c51b7d\"],[0.2,\"#de77ae\"],[0.3,\"#f1b6da\"],[0.4,\"#fde0ef\"],[0.5,\"#f7f7f7\"],[0.6,\"#e6f5d0\"],[0.7,\"#b8e186\"],[0.8,\"#7fbc41\"],[0.9,\"#4d9221\"],[1,\"#276419\"]]},\"xaxis\":{\"gridcolor\":\"white\",\"linecolor\":\"white\",\"ticks\":\"\",\"title\":{\"standoff\":15},\"zerolinecolor\":\"white\",\"automargin\":true,\"zerolinewidth\":2},\"yaxis\":{\"gridcolor\":\"white\",\"linecolor\":\"white\",\"ticks\":\"\",\"title\":{\"standoff\":15},\"zerolinecolor\":\"white\",\"automargin\":true,\"zerolinewidth\":2},\"scene\":{\"xaxis\":{\"backgroundcolor\":\"#E5ECF6\",\"gridcolor\":\"white\",\"linecolor\":\"white\",\"showbackground\":true,\"ticks\":\"\",\"zerolinecolor\":\"white\",\"gridwidth\":2},\"yaxis\":{\"backgroundcolor\":\"#E5ECF6\",\"gridcolor\":\"white\",\"linecolor\":\"white\",\"showbackground\":true,\"ticks\":\"\",\"zerolinecolor\":\"white\",\"gridwidth\":2},\"zaxis\":{\"backgroundcolor\":\"#E5ECF6\",\"gridcolor\":\"white\",\"linecolor\":\"white\",\"showbackground\":true,\"ticks\":\"\",\"zerolinecolor\":\"white\",\"gridwidth\":2}},\"shapedefaults\":{\"line\":{\"color\":\"#2a3f5f\"}},\"annotationdefaults\":{\"arrowcolor\":\"#2a3f5f\",\"arrowhead\":0,\"arrowwidth\":1},\"geo\":{\"bgcolor\":\"white\",\"landcolor\":\"#E5ECF6\",\"subunitcolor\":\"white\",\"showland\":true,\"showlakes\":true,\"lakecolor\":\"white\"},\"title\":{\"x\":0.05},\"mapbox\":{\"style\":\"light\"}}},\"xaxis\":{\"anchor\":\"y\",\"domain\":[0.0,1.0],\"title\":{\"text\":\"index\"}},\"yaxis\":{\"anchor\":\"x\",\"domain\":[0.0,1.0],\"title\":{\"text\":\"value\"}},\"legend\":{\"title\":{\"text\":\"variable\"},\"tracegroupgap\":0},\"title\":{\"text\":\"Checking for Null values\"},\"barmode\":\"relative\"},                        {\"responsive\": true}                    ).then(function(){\n",
       "                            \n",
       "var gd = document.getElementById('8f7b60a0-a7cd-420e-baf5-91037498c200');\n",
       "var x = new MutationObserver(function (mutations, observer) {{\n",
       "        var display = window.getComputedStyle(gd).display;\n",
       "        if (!display || display === 'none') {{\n",
       "            console.log([gd, 'removed!']);\n",
       "            Plotly.purge(gd);\n",
       "            observer.disconnect();\n",
       "        }}\n",
       "}});\n",
       "\n",
       "// Listen for the removal of the full notebook cells\n",
       "var notebookContainer = gd.closest('#notebook-container');\n",
       "if (notebookContainer) {{\n",
       "    x.observe(notebookContainer, {childList: true});\n",
       "}}\n",
       "\n",
       "// Listen for the clearing of the current output cell\n",
       "var outputEl = gd.closest('.output');\n",
       "if (outputEl) {{\n",
       "    x.observe(outputEl, {childList: true});\n",
       "}}\n",
       "\n",
       "                        })                };                });            </script>        </div>"
      ]
     },
     "metadata": {},
     "output_type": "display_data"
    }
   ],
   "source": [
    "import plotly.express as px\n",
    "import seaborn as sns\n",
    "dfv= df[[\"Acc_X\",\"Acc_Y\",\"Acc_Z\"]]\n",
    "dfbv=dfv.isnull().sum()\n",
    "\n",
    "\n",
    "sns.set(color_codes=True)\n",
    "sns.set(rc={'figure.figsize':(15,15)})\n",
    "#data_canada = px.data.gapminder().query(\"country == 'Canada'\")\n",
    "fig = px.bar(dfbv,title=\"Checking for Null values\")\n",
    "\n",
    "fig.show()"
   ]
  },
  {
   "cell_type": "code",
   "execution_count": 105,
   "id": "b9c3b99f",
   "metadata": {},
   "outputs": [
    {
     "data": {
      "image/png": "[encoded data removed]",
      "text/plain": [
       "<Figure size 1500x1500 with 1 Axes>"
      ]
     },
     "metadata": {},
     "output_type": "display_data"
    }
   ],
   "source": [
    "sns.set(color_codes=True)\n",
    "sns.set(rc={'figure.figsize':(15,15)})\n",
    "fig= sns.boxplot(data=df.iloc[0:25955,0:3])\n",
    "figure=fig.get_figure()\n",
    "figure.savefig(\"withOutliers.png\")"
   ]
  },
  {
   "cell_type": "code",
   "execution_count": 106,
   "id": "280d4cdb",
   "metadata": {},
   "outputs": [],
   "source": [
    "Q1x = df['Acc_X'].quantile(0.25)\n",
    "Q1y = df['Acc_Y'].quantile(0.25)   \n",
    "Q1z = df['Acc_Z'].quantile(0.25)\n",
    "\n",
    "Q3x = df['Acc_X'].quantile(0.75)\n",
    "Q3y = df['Acc_Y'].quantile(0.75)   \n",
    "Q3z = df['Acc_Z'].quantile(0.75)\n",
    "  \n",
    "IQRx = Q3x - Q1x\n",
    "IQRy = Q3y - Q1y\n",
    "IQRz = Q3z - Q1z\n",
    "\n",
    "lim1x=(Q1x- 1.5 * IQRx)\n",
    "lim1y=(Q1y- 1.5 * IQRy)\n",
    "lim1z=(Q1z- 1.5 * IQRz)\n",
    "\n",
    "lim2x=(Q3x + 1.5 * IQRx)\n",
    "lim2y=(Q3y + 1.5 * IQRy)\n",
    "lim2z=(Q3z + 1.5 * IQRz)\n",
    "\n",
    "tenthx= df['Acc_X'].quantile(0.10)\n",
    "tenthy= df['Acc_Y'].quantile(0.10)\n",
    "tenthz= df['Acc_Z'].quantile(0.10)\n",
    "\n",
    "ninetyx=df['Acc_X'].quantile(0.90)\n",
    "ninetyy=df['Acc_Y'].quantile(0.90)\n",
    "ninetyz=df['Acc_Z'].quantile(0.90)\n",
    "    \n",
    "# print(tenthx,ninetyx)\n",
    "df['Acc_X']=np.where(df['Acc_X']<lim1x,tenthx,df['Acc_X'])\n",
    "df['Acc_X']=np.where(df['Acc_X']>lim2x,ninetyx,df['Acc_X'])\n",
    "\n",
    "df['Acc_Y']=np.where(df['Acc_Y']<lim1y,tenthy,df['Acc_Y'])\n",
    "df['Acc_Y']=np.where(df['Acc_Y']>lim2y,ninetyy,df['Acc_Y'])\n",
    "\n",
    "df['Acc_Z']=np.where(df['Acc_Z']<lim1z,tenthz,df['Acc_Z'])\n",
    "df['Acc_Z']=np.where(df['Acc_Z']>lim2z,ninetyz,df['Acc_Z'])"
   ]
  },
  {
   "cell_type": "code",
   "execution_count": 107,
   "id": "0f93eb0c",
   "metadata": {},
   "outputs": [
    {
     "data": {
      "image/png": "[encoded data removed]",
      "text/plain": [
       "<Figure size 1500x1500 with 1 Axes>"
      ]
     },
     "metadata": {},
     "output_type": "display_data"
    }
   ],
   "source": [
    "sns.set(color_codes=True)\n",
    "sns.set(rc={'figure.figsize':(15,15)})\n",
    "fig=sns.boxplot(data=df.iloc[0:6000,0:3],whis=[0, 100])\n",
    "count=0\n",
    "figure=fig.get_figure()\n",
    "figure.savefig(\"withOut_Outliers(Final Har_intensity).png\")"
   ]
  },
  {
   "cell_type": "code",
   "execution_count": 108,
   "id": "905fb8ef",
   "metadata": {},
   "outputs": [
    {
     "name": "stdout",
     "output_type": "stream",
     "text": [
      "[1.68358141e-06 1.68358141e-05 7.57611633e-05 2.02029769e-04\n",
      " 3.53552096e-04 4.24262515e-04 3.53552096e-04 2.02029769e-04\n",
      " 7.57611633e-05 1.68358141e-05 1.68358141e-06] [ 1.00000000e+00 -5.98758963e+00  1.66721933e+01 -2.82587879e+01\n",
      "  3.21597565e+01 -2.56017496e+01  1.44056874e+01 -5.64707434e+00\n",
      "  1.47372794e+00 -2.30919346e-01  1.64796305e-02]\n",
      "[1.68358141e-06 1.68358141e-05 7.57611633e-05 2.02029769e-04\n",
      " 3.53552096e-04 4.24262515e-04 3.53552096e-04 2.02029769e-04\n",
      " 7.57611633e-05 1.68358141e-05 1.68358141e-06] [ 1.00000000e+00 -5.98758963e+00  1.66721933e+01 -2.82587879e+01\n",
      "  3.21597565e+01 -2.56017496e+01  1.44056874e+01 -5.64707434e+00\n",
      "  1.47372794e+00 -2.30919346e-01  1.64796305e-02]\n",
      "[1.68358141e-06 1.68358141e-05 7.57611633e-05 2.02029769e-04\n",
      " 3.53552096e-04 4.24262515e-04 3.53552096e-04 2.02029769e-04\n",
      " 7.57611633e-05 1.68358141e-05 1.68358141e-06] [ 1.00000000e+00 -5.98758963e+00  1.66721933e+01 -2.82587879e+01\n",
      "  3.21597565e+01 -2.56017496e+01  1.44056874e+01 -5.64707434e+00\n",
      "  1.47372794e+00 -2.30919346e-01  1.64796305e-02]\n"
     ]
    }
   ],
   "source": [
    "def butter_lowpass(cutoff, fs, order):\n",
    "    nyq = 0.5 * fs\n",
    "    normal_cutoff = cutoff / nyq\n",
    "    b, a = butter(order, normal_cutoff, btype='low', analog=False)\n",
    "    return b, a\n",
    "\n",
    "def butter_lowpass_filter(data, cutoff, fs, order):\n",
    "    b, a = butter_lowpass(cutoff, fs, order=order)\n",
    "    print(b,a)\n",
    "    y = lfilter(b, a, data)\n",
    "    return y\n",
    "\n",
    "df['Acc_X']= butter_lowpass_filter(df['Acc_X'], 10, 100, 10)\n",
    "df['Acc_Y']= butter_lowpass_filter(df['Acc_Y'], 10, 100, 10)\n",
    "df['Acc_Z']= butter_lowpass_filter(df['Acc_Z'], 10, 100, 10)"
   ]
  },
  {
   "cell_type": "code",
   "execution_count": 109,
   "id": "9ece549e",
   "metadata": {},
   "outputs": [
    {
     "data": {
      "text/html": [
       "<div>\n",
       "<style scoped>\n",
       "    .dataframe tbody tr th:only-of-type {\n",
       "        vertical-align: middle;\n",
       "    }\n",
       "\n",
       "    .dataframe tbody tr th {\n",
       "        vertical-align: top;\n",
       "    }\n",
       "\n",
       "    .dataframe thead th {\n",
       "        text-align: right;\n",
       "    }\n",
       "</style>\n",
       "<table border=\"1\" class=\"dataframe\">\n",
       "  <thead>\n",
       "    <tr style=\"text-align: right;\">\n",
       "      <th></th>\n",
       "      <th>Acc_X</th>\n",
       "      <th>Acc_Y</th>\n",
       "      <th>Acc_Z</th>\n",
       "      <th>Mean</th>\n",
       "      <th>Median</th>\n",
       "      <th>Variance</th>\n",
       "      <th>Standard_Deviation</th>\n",
       "    </tr>\n",
       "  </thead>\n",
       "  <tbody>\n",
       "    <tr>\n",
       "      <th>0</th>\n",
       "      <td>-0.000010</td>\n",
       "      <td>-0.000002</td>\n",
       "      <td>0.000013</td>\n",
       "      <td>2.067971e-07</td>\n",
       "      <td>-0.000002</td>\n",
       "      <td>1.376141e-10</td>\n",
       "      <td>0.000012</td>\n",
       "    </tr>\n",
       "    <tr>\n",
       "      <th>1</th>\n",
       "      <td>-0.000177</td>\n",
       "      <td>-0.000029</td>\n",
       "      <td>0.000217</td>\n",
       "      <td>3.504927e-06</td>\n",
       "      <td>-0.000029</td>\n",
       "      <td>3.971203e-08</td>\n",
       "      <td>0.000199</td>\n",
       "    </tr>\n",
       "    <tr>\n",
       "      <th>2</th>\n",
       "      <td>-0.001474</td>\n",
       "      <td>-0.000241</td>\n",
       "      <td>0.001802</td>\n",
       "      <td>2.900841e-05</td>\n",
       "      <td>-0.000241</td>\n",
       "      <td>2.737498e-06</td>\n",
       "      <td>0.001655</td>\n",
       "    </tr>\n",
       "    <tr>\n",
       "      <th>3</th>\n",
       "      <td>-0.007999</td>\n",
       "      <td>-0.001311</td>\n",
       "      <td>0.009781</td>\n",
       "      <td>1.567945e-04</td>\n",
       "      <td>-0.001311</td>\n",
       "      <td>8.064677e-05</td>\n",
       "      <td>0.008980</td>\n",
       "    </tr>\n",
       "    <tr>\n",
       "      <th>4</th>\n",
       "      <td>-0.032042</td>\n",
       "      <td>-0.005254</td>\n",
       "      <td>0.039170</td>\n",
       "      <td>6.246630e-04</td>\n",
       "      <td>-0.005254</td>\n",
       "      <td>1.293688e-03</td>\n",
       "      <td>0.035968</td>\n",
       "    </tr>\n",
       "    <tr>\n",
       "      <th>...</th>\n",
       "      <td>...</td>\n",
       "      <td>...</td>\n",
       "      <td>...</td>\n",
       "      <td>...</td>\n",
       "      <td>...</td>\n",
       "      <td>...</td>\n",
       "      <td>...</td>\n",
       "    </tr>\n",
       "    <tr>\n",
       "      <th>588</th>\n",
       "      <td>-6.097577</td>\n",
       "      <td>-1.008158</td>\n",
       "      <td>7.674011</td>\n",
       "      <td>1.894256e-01</td>\n",
       "      <td>-1.008158</td>\n",
       "      <td>4.848981e+01</td>\n",
       "      <td>6.963463</td>\n",
       "    </tr>\n",
       "    <tr>\n",
       "      <th>589</th>\n",
       "      <td>-6.099444</td>\n",
       "      <td>-1.007688</td>\n",
       "      <td>7.672688</td>\n",
       "      <td>1.885187e-01</td>\n",
       "      <td>-1.007688</td>\n",
       "      <td>4.849109e+01</td>\n",
       "      <td>6.963555</td>\n",
       "    </tr>\n",
       "    <tr>\n",
       "      <th>590</th>\n",
       "      <td>-6.101551</td>\n",
       "      <td>-1.008121</td>\n",
       "      <td>7.670970</td>\n",
       "      <td>1.870995e-01</td>\n",
       "      <td>-1.008121</td>\n",
       "      <td>4.849200e+01</td>\n",
       "      <td>6.963620</td>\n",
       "    </tr>\n",
       "    <tr>\n",
       "      <th>591</th>\n",
       "      <td>-6.103941</td>\n",
       "      <td>-1.009584</td>\n",
       "      <td>7.668865</td>\n",
       "      <td>1.851132e-01</td>\n",
       "      <td>-1.009584</td>\n",
       "      <td>4.849302e+01</td>\n",
       "      <td>6.963693</td>\n",
       "    </tr>\n",
       "    <tr>\n",
       "      <th>592</th>\n",
       "      <td>-6.106286</td>\n",
       "      <td>-1.011681</td>\n",
       "      <td>7.666745</td>\n",
       "      <td>1.829258e-01</td>\n",
       "      <td>-1.011681</td>\n",
       "      <td>4.849441e+01</td>\n",
       "      <td>6.963793</td>\n",
       "    </tr>\n",
       "  </tbody>\n",
       "</table>\n",
       "<p>593 rows × 7 columns</p>\n",
       "</div>"
      ],
      "text/plain": [
       "        Acc_X     Acc_Y     Acc_Z          Mean    Median      Variance  \\\n",
       "0   -0.000010 -0.000002  0.000013  2.067971e-07 -0.000002  1.376141e-10   \n",
       "1   -0.000177 -0.000029  0.000217  3.504927e-06 -0.000029  3.971203e-08   \n",
       "2   -0.001474 -0.000241  0.001802  2.900841e-05 -0.000241  2.737498e-06   \n",
       "3   -0.007999 -0.001311  0.009781  1.567945e-04 -0.001311  8.064677e-05   \n",
       "4   -0.032042 -0.005254  0.039170  6.246630e-04 -0.005254  1.293688e-03   \n",
       "..        ...       ...       ...           ...       ...           ...   \n",
       "588 -6.097577 -1.008158  7.674011  1.894256e-01 -1.008158  4.848981e+01   \n",
       "589 -6.099444 -1.007688  7.672688  1.885187e-01 -1.007688  4.849109e+01   \n",
       "590 -6.101551 -1.008121  7.670970  1.870995e-01 -1.008121  4.849200e+01   \n",
       "591 -6.103941 -1.009584  7.668865  1.851132e-01 -1.009584  4.849302e+01   \n",
       "592 -6.106286 -1.011681  7.666745  1.829258e-01 -1.011681  4.849441e+01   \n",
       "\n",
       "     Standard_Deviation  \n",
       "0              0.000012  \n",
       "1              0.000199  \n",
       "2              0.001655  \n",
       "3              0.008980  \n",
       "4              0.035968  \n",
       "..                  ...  \n",
       "588            6.963463  \n",
       "589            6.963555  \n",
       "590            6.963620  \n",
       "591            6.963693  \n",
       "592            6.963793  \n",
       "\n",
       "[593 rows x 7 columns]"
      ]
     },
     "execution_count": 109,
     "metadata": {},
     "output_type": "execute_result"
    }
   ],
   "source": [
    "#feature enginerring\n",
    "df=df.eval('Mean = (Acc_X+Acc_Y+Acc_Z)/3')\n",
    "df['Median']=df.loc[:,['Acc_X','Acc_Y','Acc_Z']].median(axis=1)\n",
    "df['Variance']=df.loc[:,['Acc_X','Acc_Y','Acc_Z']].var(axis=1)\n",
    "df['Standard_Deviation']=df.loc[:,['Acc_X','Acc_Y','Acc_Z']].std(axis=1)\n",
    "df"
   ]
  },
  {
   "cell_type": "code",
   "execution_count": 110,
   "id": "bbf6e735",
   "metadata": {},
   "outputs": [
    {
     "data": {
      "text/html": [
       "<div>\n",
       "<style scoped>\n",
       "    .dataframe tbody tr th:only-of-type {\n",
       "        vertical-align: middle;\n",
       "    }\n",
       "\n",
       "    .dataframe tbody tr th {\n",
       "        vertical-align: top;\n",
       "    }\n",
       "\n",
       "    .dataframe thead th {\n",
       "        text-align: right;\n",
       "    }\n",
       "</style>\n",
       "<table border=\"1\" class=\"dataframe\">\n",
       "  <thead>\n",
       "    <tr style=\"text-align: right;\">\n",
       "      <th></th>\n",
       "      <th>Acc_X</th>\n",
       "      <th>Acc_Y</th>\n",
       "      <th>Acc_Z</th>\n",
       "      <th>Mean</th>\n",
       "      <th>Median</th>\n",
       "      <th>Variance</th>\n",
       "      <th>Standard_Deviation</th>\n",
       "      <th>Q3</th>\n",
       "      <th>Q1</th>\n",
       "    </tr>\n",
       "  </thead>\n",
       "  <tbody>\n",
       "    <tr>\n",
       "      <th>0</th>\n",
       "      <td>-0.000010</td>\n",
       "      <td>-0.000002</td>\n",
       "      <td>0.000013</td>\n",
       "      <td>2.067971e-07</td>\n",
       "      <td>-0.000002</td>\n",
       "      <td>1.376141e-10</td>\n",
       "      <td>0.000012</td>\n",
       "      <td>0.000006</td>\n",
       "      <td>-0.000006</td>\n",
       "    </tr>\n",
       "    <tr>\n",
       "      <th>1</th>\n",
       "      <td>-0.000177</td>\n",
       "      <td>-0.000029</td>\n",
       "      <td>0.000217</td>\n",
       "      <td>3.504927e-06</td>\n",
       "      <td>-0.000029</td>\n",
       "      <td>3.971203e-08</td>\n",
       "      <td>0.000199</td>\n",
       "      <td>0.000094</td>\n",
       "      <td>-0.000103</td>\n",
       "    </tr>\n",
       "    <tr>\n",
       "      <th>2</th>\n",
       "      <td>-0.001474</td>\n",
       "      <td>-0.000241</td>\n",
       "      <td>0.001802</td>\n",
       "      <td>2.900841e-05</td>\n",
       "      <td>-0.000241</td>\n",
       "      <td>2.737498e-06</td>\n",
       "      <td>0.001655</td>\n",
       "      <td>0.000780</td>\n",
       "      <td>-0.000858</td>\n",
       "    </tr>\n",
       "    <tr>\n",
       "      <th>3</th>\n",
       "      <td>-0.007999</td>\n",
       "      <td>-0.001311</td>\n",
       "      <td>0.009781</td>\n",
       "      <td>1.567945e-04</td>\n",
       "      <td>-0.001311</td>\n",
       "      <td>8.064677e-05</td>\n",
       "      <td>0.008980</td>\n",
       "      <td>0.004235</td>\n",
       "      <td>-0.004655</td>\n",
       "    </tr>\n",
       "    <tr>\n",
       "      <th>4</th>\n",
       "      <td>-0.032042</td>\n",
       "      <td>-0.005254</td>\n",
       "      <td>0.039170</td>\n",
       "      <td>6.246630e-04</td>\n",
       "      <td>-0.005254</td>\n",
       "      <td>1.293688e-03</td>\n",
       "      <td>0.035968</td>\n",
       "      <td>0.016958</td>\n",
       "      <td>-0.018648</td>\n",
       "    </tr>\n",
       "    <tr>\n",
       "      <th>...</th>\n",
       "      <td>...</td>\n",
       "      <td>...</td>\n",
       "      <td>...</td>\n",
       "      <td>...</td>\n",
       "      <td>...</td>\n",
       "      <td>...</td>\n",
       "      <td>...</td>\n",
       "      <td>...</td>\n",
       "      <td>...</td>\n",
       "    </tr>\n",
       "    <tr>\n",
       "      <th>588</th>\n",
       "      <td>-6.097577</td>\n",
       "      <td>-1.008158</td>\n",
       "      <td>7.674011</td>\n",
       "      <td>1.894256e-01</td>\n",
       "      <td>-1.008158</td>\n",
       "      <td>4.848981e+01</td>\n",
       "      <td>6.963463</td>\n",
       "      <td>3.332927</td>\n",
       "      <td>-3.552867</td>\n",
       "    </tr>\n",
       "    <tr>\n",
       "      <th>589</th>\n",
       "      <td>-6.099444</td>\n",
       "      <td>-1.007688</td>\n",
       "      <td>7.672688</td>\n",
       "      <td>1.885187e-01</td>\n",
       "      <td>-1.007688</td>\n",
       "      <td>4.849109e+01</td>\n",
       "      <td>6.963555</td>\n",
       "      <td>3.332500</td>\n",
       "      <td>-3.553566</td>\n",
       "    </tr>\n",
       "    <tr>\n",
       "      <th>590</th>\n",
       "      <td>-6.101551</td>\n",
       "      <td>-1.008121</td>\n",
       "      <td>7.670970</td>\n",
       "      <td>1.870995e-01</td>\n",
       "      <td>-1.008121</td>\n",
       "      <td>4.849200e+01</td>\n",
       "      <td>6.963620</td>\n",
       "      <td>3.331425</td>\n",
       "      <td>-3.554836</td>\n",
       "    </tr>\n",
       "    <tr>\n",
       "      <th>591</th>\n",
       "      <td>-6.103941</td>\n",
       "      <td>-1.009584</td>\n",
       "      <td>7.668865</td>\n",
       "      <td>1.851132e-01</td>\n",
       "      <td>-1.009584</td>\n",
       "      <td>4.849302e+01</td>\n",
       "      <td>6.963693</td>\n",
       "      <td>3.329640</td>\n",
       "      <td>-3.556762</td>\n",
       "    </tr>\n",
       "    <tr>\n",
       "      <th>592</th>\n",
       "      <td>-6.106286</td>\n",
       "      <td>-1.011681</td>\n",
       "      <td>7.666745</td>\n",
       "      <td>1.829258e-01</td>\n",
       "      <td>-1.011681</td>\n",
       "      <td>4.849441e+01</td>\n",
       "      <td>6.963793</td>\n",
       "      <td>3.327532</td>\n",
       "      <td>-3.558984</td>\n",
       "    </tr>\n",
       "  </tbody>\n",
       "</table>\n",
       "<p>593 rows × 9 columns</p>\n",
       "</div>"
      ],
      "text/plain": [
       "        Acc_X     Acc_Y     Acc_Z          Mean    Median      Variance  \\\n",
       "0   -0.000010 -0.000002  0.000013  2.067971e-07 -0.000002  1.376141e-10   \n",
       "1   -0.000177 -0.000029  0.000217  3.504927e-06 -0.000029  3.971203e-08   \n",
       "2   -0.001474 -0.000241  0.001802  2.900841e-05 -0.000241  2.737498e-06   \n",
       "3   -0.007999 -0.001311  0.009781  1.567945e-04 -0.001311  8.064677e-05   \n",
       "4   -0.032042 -0.005254  0.039170  6.246630e-04 -0.005254  1.293688e-03   \n",
       "..        ...       ...       ...           ...       ...           ...   \n",
       "588 -6.097577 -1.008158  7.674011  1.894256e-01 -1.008158  4.848981e+01   \n",
       "589 -6.099444 -1.007688  7.672688  1.885187e-01 -1.007688  4.849109e+01   \n",
       "590 -6.101551 -1.008121  7.670970  1.870995e-01 -1.008121  4.849200e+01   \n",
       "591 -6.103941 -1.009584  7.668865  1.851132e-01 -1.009584  4.849302e+01   \n",
       "592 -6.106286 -1.011681  7.666745  1.829258e-01 -1.011681  4.849441e+01   \n",
       "\n",
       "     Standard_Deviation        Q3        Q1  \n",
       "0              0.000012  0.000006 -0.000006  \n",
       "1              0.000199  0.000094 -0.000103  \n",
       "2              0.001655  0.000780 -0.000858  \n",
       "3              0.008980  0.004235 -0.004655  \n",
       "4              0.035968  0.016958 -0.018648  \n",
       "..                  ...       ...       ...  \n",
       "588            6.963463  3.332927 -3.552867  \n",
       "589            6.963555  3.332500 -3.553566  \n",
       "590            6.963620  3.331425 -3.554836  \n",
       "591            6.963693  3.329640 -3.556762  \n",
       "592            6.963793  3.327532 -3.558984  \n",
       "\n",
       "[593 rows x 9 columns]"
      ]
     },
     "execution_count": 110,
     "metadata": {},
     "output_type": "execute_result"
    }
   ],
   "source": [
    "sort=np.sort(df.loc[:,['Acc_X','Acc_Y','Acc_Z']],axis=1)\n",
    "\n",
    "q3=[]\n",
    "q1=[]\n",
    "for x in sort:\n",
    "\n",
    "    q3x,q1x= np.percentile(x,[75,25])\n",
    "    q3.append(q3x)\n",
    "    q1.append(q1x)\n",
    "df['Q3']=q3\n",
    "df['Q1']=q1\n",
    "df"
   ]
  },
  {
   "cell_type": "code",
   "execution_count": 111,
   "id": "4deef208",
   "metadata": {},
   "outputs": [
    {
     "data": {
      "text/html": [
       "<div>\n",
       "<style scoped>\n",
       "    .dataframe tbody tr th:only-of-type {\n",
       "        vertical-align: middle;\n",
       "    }\n",
       "\n",
       "    .dataframe tbody tr th {\n",
       "        vertical-align: top;\n",
       "    }\n",
       "\n",
       "    .dataframe thead th {\n",
       "        text-align: right;\n",
       "    }\n",
       "</style>\n",
       "<table border=\"1\" class=\"dataframe\">\n",
       "  <thead>\n",
       "    <tr style=\"text-align: right;\">\n",
       "      <th></th>\n",
       "      <th>Acc_X</th>\n",
       "      <th>Acc_Y</th>\n",
       "      <th>Acc_Z</th>\n",
       "      <th>Mean</th>\n",
       "      <th>Median</th>\n",
       "      <th>Variance</th>\n",
       "      <th>Standard_Deviation</th>\n",
       "      <th>Q3</th>\n",
       "      <th>Q1</th>\n",
       "      <th>ZCR</th>\n",
       "    </tr>\n",
       "  </thead>\n",
       "  <tbody>\n",
       "    <tr>\n",
       "      <th>0</th>\n",
       "      <td>-0.000010</td>\n",
       "      <td>-0.000002</td>\n",
       "      <td>0.000013</td>\n",
       "      <td>2.067971e-07</td>\n",
       "      <td>-0.000002</td>\n",
       "      <td>1.376141e-10</td>\n",
       "      <td>0.000012</td>\n",
       "      <td>0.000006</td>\n",
       "      <td>-0.000006</td>\n",
       "      <td>0.33</td>\n",
       "    </tr>\n",
       "    <tr>\n",
       "      <th>1</th>\n",
       "      <td>-0.000177</td>\n",
       "      <td>-0.000029</td>\n",
       "      <td>0.000217</td>\n",
       "      <td>3.504927e-06</td>\n",
       "      <td>-0.000029</td>\n",
       "      <td>3.971203e-08</td>\n",
       "      <td>0.000199</td>\n",
       "      <td>0.000094</td>\n",
       "      <td>-0.000103</td>\n",
       "      <td>0.33</td>\n",
       "    </tr>\n",
       "    <tr>\n",
       "      <th>2</th>\n",
       "      <td>-0.001474</td>\n",
       "      <td>-0.000241</td>\n",
       "      <td>0.001802</td>\n",
       "      <td>2.900841e-05</td>\n",
       "      <td>-0.000241</td>\n",
       "      <td>2.737498e-06</td>\n",
       "      <td>0.001655</td>\n",
       "      <td>0.000780</td>\n",
       "      <td>-0.000858</td>\n",
       "      <td>0.33</td>\n",
       "    </tr>\n",
       "    <tr>\n",
       "      <th>3</th>\n",
       "      <td>-0.007999</td>\n",
       "      <td>-0.001311</td>\n",
       "      <td>0.009781</td>\n",
       "      <td>1.567945e-04</td>\n",
       "      <td>-0.001311</td>\n",
       "      <td>8.064677e-05</td>\n",
       "      <td>0.008980</td>\n",
       "      <td>0.004235</td>\n",
       "      <td>-0.004655</td>\n",
       "      <td>0.33</td>\n",
       "    </tr>\n",
       "    <tr>\n",
       "      <th>4</th>\n",
       "      <td>-0.032042</td>\n",
       "      <td>-0.005254</td>\n",
       "      <td>0.039170</td>\n",
       "      <td>6.246630e-04</td>\n",
       "      <td>-0.005254</td>\n",
       "      <td>1.293688e-03</td>\n",
       "      <td>0.035968</td>\n",
       "      <td>0.016958</td>\n",
       "      <td>-0.018648</td>\n",
       "      <td>0.33</td>\n",
       "    </tr>\n",
       "    <tr>\n",
       "      <th>...</th>\n",
       "      <td>...</td>\n",
       "      <td>...</td>\n",
       "      <td>...</td>\n",
       "      <td>...</td>\n",
       "      <td>...</td>\n",
       "      <td>...</td>\n",
       "      <td>...</td>\n",
       "      <td>...</td>\n",
       "      <td>...</td>\n",
       "      <td>...</td>\n",
       "    </tr>\n",
       "    <tr>\n",
       "      <th>588</th>\n",
       "      <td>-6.097577</td>\n",
       "      <td>-1.008158</td>\n",
       "      <td>7.674011</td>\n",
       "      <td>1.894256e-01</td>\n",
       "      <td>-1.008158</td>\n",
       "      <td>4.848981e+01</td>\n",
       "      <td>6.963463</td>\n",
       "      <td>3.332927</td>\n",
       "      <td>-3.552867</td>\n",
       "      <td>0.33</td>\n",
       "    </tr>\n",
       "    <tr>\n",
       "      <th>589</th>\n",
       "      <td>-6.099444</td>\n",
       "      <td>-1.007688</td>\n",
       "      <td>7.672688</td>\n",
       "      <td>1.885187e-01</td>\n",
       "      <td>-1.007688</td>\n",
       "      <td>4.849109e+01</td>\n",
       "      <td>6.963555</td>\n",
       "      <td>3.332500</td>\n",
       "      <td>-3.553566</td>\n",
       "      <td>0.33</td>\n",
       "    </tr>\n",
       "    <tr>\n",
       "      <th>590</th>\n",
       "      <td>-6.101551</td>\n",
       "      <td>-1.008121</td>\n",
       "      <td>7.670970</td>\n",
       "      <td>1.870995e-01</td>\n",
       "      <td>-1.008121</td>\n",
       "      <td>4.849200e+01</td>\n",
       "      <td>6.963620</td>\n",
       "      <td>3.331425</td>\n",
       "      <td>-3.554836</td>\n",
       "      <td>0.33</td>\n",
       "    </tr>\n",
       "    <tr>\n",
       "      <th>591</th>\n",
       "      <td>-6.103941</td>\n",
       "      <td>-1.009584</td>\n",
       "      <td>7.668865</td>\n",
       "      <td>1.851132e-01</td>\n",
       "      <td>-1.009584</td>\n",
       "      <td>4.849302e+01</td>\n",
       "      <td>6.963693</td>\n",
       "      <td>3.329640</td>\n",
       "      <td>-3.556762</td>\n",
       "      <td>0.33</td>\n",
       "    </tr>\n",
       "    <tr>\n",
       "      <th>592</th>\n",
       "      <td>-6.106286</td>\n",
       "      <td>-1.011681</td>\n",
       "      <td>7.666745</td>\n",
       "      <td>1.829258e-01</td>\n",
       "      <td>-1.011681</td>\n",
       "      <td>4.849441e+01</td>\n",
       "      <td>6.963793</td>\n",
       "      <td>3.327532</td>\n",
       "      <td>-3.558984</td>\n",
       "      <td>0.33</td>\n",
       "    </tr>\n",
       "  </tbody>\n",
       "</table>\n",
       "<p>593 rows × 10 columns</p>\n",
       "</div>"
      ],
      "text/plain": [
       "        Acc_X     Acc_Y     Acc_Z          Mean    Median      Variance  \\\n",
       "0   -0.000010 -0.000002  0.000013  2.067971e-07 -0.000002  1.376141e-10   \n",
       "1   -0.000177 -0.000029  0.000217  3.504927e-06 -0.000029  3.971203e-08   \n",
       "2   -0.001474 -0.000241  0.001802  2.900841e-05 -0.000241  2.737498e-06   \n",
       "3   -0.007999 -0.001311  0.009781  1.567945e-04 -0.001311  8.064677e-05   \n",
       "4   -0.032042 -0.005254  0.039170  6.246630e-04 -0.005254  1.293688e-03   \n",
       "..        ...       ...       ...           ...       ...           ...   \n",
       "588 -6.097577 -1.008158  7.674011  1.894256e-01 -1.008158  4.848981e+01   \n",
       "589 -6.099444 -1.007688  7.672688  1.885187e-01 -1.007688  4.849109e+01   \n",
       "590 -6.101551 -1.008121  7.670970  1.870995e-01 -1.008121  4.849200e+01   \n",
       "591 -6.103941 -1.009584  7.668865  1.851132e-01 -1.009584  4.849302e+01   \n",
       "592 -6.106286 -1.011681  7.666745  1.829258e-01 -1.011681  4.849441e+01   \n",
       "\n",
       "     Standard_Deviation        Q3        Q1   ZCR  \n",
       "0              0.000012  0.000006 -0.000006  0.33  \n",
       "1              0.000199  0.000094 -0.000103  0.33  \n",
       "2              0.001655  0.000780 -0.000858  0.33  \n",
       "3              0.008980  0.004235 -0.004655  0.33  \n",
       "4              0.035968  0.016958 -0.018648  0.33  \n",
       "..                  ...       ...       ...   ...  \n",
       "588            6.963463  3.332927 -3.552867  0.33  \n",
       "589            6.963555  3.332500 -3.553566  0.33  \n",
       "590            6.963620  3.331425 -3.554836  0.33  \n",
       "591            6.963693  3.329640 -3.556762  0.33  \n",
       "592            6.963793  3.327532 -3.558984  0.33  \n",
       "\n",
       "[593 rows x 10 columns]"
      ]
     },
     "execution_count": 111,
     "metadata": {},
     "output_type": "execute_result"
    }
   ],
   "source": [
    "def getZCR(arr):\n",
    "        my_array = np.array(arr)\n",
    "        return float(\"{0:.2f}\".format((((my_array[:-1] * my_array[1:]) < 0).sum())/len(arr)))\n",
    "zcr=[]\n",
    "arr2=np.array(df.loc[:,['Acc_X','Acc_Y','Acc_Z']])\n",
    "\n",
    "\n",
    "for x in arr2:\n",
    "    zcr.append(getZCR(x))\n",
    "df['ZCR']=zcr\n",
    "df"
   ]
  },
  {
   "cell_type": "code",
   "execution_count": 112,
   "id": "41d25f30",
   "metadata": {},
   "outputs": [
    {
     "data": {
      "text/html": [
       "<div>\n",
       "<style scoped>\n",
       "    .dataframe tbody tr th:only-of-type {\n",
       "        vertical-align: middle;\n",
       "    }\n",
       "\n",
       "    .dataframe tbody tr th {\n",
       "        vertical-align: top;\n",
       "    }\n",
       "\n",
       "    .dataframe thead th {\n",
       "        text-align: right;\n",
       "    }\n",
       "</style>\n",
       "<table border=\"1\" class=\"dataframe\">\n",
       "  <thead>\n",
       "    <tr style=\"text-align: right;\">\n",
       "      <th></th>\n",
       "      <th>Acc_X</th>\n",
       "      <th>Acc_Y</th>\n",
       "      <th>Acc_Z</th>\n",
       "      <th>Mean</th>\n",
       "      <th>Median</th>\n",
       "      <th>Variance</th>\n",
       "      <th>Standard_Deviation</th>\n",
       "      <th>Q3</th>\n",
       "      <th>Q1</th>\n",
       "      <th>ZCR</th>\n",
       "      <th>MCR</th>\n",
       "    </tr>\n",
       "  </thead>\n",
       "  <tbody>\n",
       "    <tr>\n",
       "      <th>0</th>\n",
       "      <td>-0.000010</td>\n",
       "      <td>-0.000002</td>\n",
       "      <td>0.000013</td>\n",
       "      <td>2.067971e-07</td>\n",
       "      <td>-0.000002</td>\n",
       "      <td>1.376141e-10</td>\n",
       "      <td>0.000012</td>\n",
       "      <td>0.000006</td>\n",
       "      <td>-0.000006</td>\n",
       "      <td>0.33</td>\n",
       "      <td>0.33</td>\n",
       "    </tr>\n",
       "    <tr>\n",
       "      <th>1</th>\n",
       "      <td>-0.000177</td>\n",
       "      <td>-0.000029</td>\n",
       "      <td>0.000217</td>\n",
       "      <td>3.504927e-06</td>\n",
       "      <td>-0.000029</td>\n",
       "      <td>3.971203e-08</td>\n",
       "      <td>0.000199</td>\n",
       "      <td>0.000094</td>\n",
       "      <td>-0.000103</td>\n",
       "      <td>0.33</td>\n",
       "      <td>0.33</td>\n",
       "    </tr>\n",
       "    <tr>\n",
       "      <th>2</th>\n",
       "      <td>-0.001474</td>\n",
       "      <td>-0.000241</td>\n",
       "      <td>0.001802</td>\n",
       "      <td>2.900841e-05</td>\n",
       "      <td>-0.000241</td>\n",
       "      <td>2.737498e-06</td>\n",
       "      <td>0.001655</td>\n",
       "      <td>0.000780</td>\n",
       "      <td>-0.000858</td>\n",
       "      <td>0.33</td>\n",
       "      <td>0.33</td>\n",
       "    </tr>\n",
       "    <tr>\n",
       "      <th>3</th>\n",
       "      <td>-0.007999</td>\n",
       "      <td>-0.001311</td>\n",
       "      <td>0.009781</td>\n",
       "      <td>1.567945e-04</td>\n",
       "      <td>-0.001311</td>\n",
       "      <td>8.064677e-05</td>\n",
       "      <td>0.008980</td>\n",
       "      <td>0.004235</td>\n",
       "      <td>-0.004655</td>\n",
       "      <td>0.33</td>\n",
       "      <td>0.33</td>\n",
       "    </tr>\n",
       "    <tr>\n",
       "      <th>4</th>\n",
       "      <td>-0.032042</td>\n",
       "      <td>-0.005254</td>\n",
       "      <td>0.039170</td>\n",
       "      <td>6.246630e-04</td>\n",
       "      <td>-0.005254</td>\n",
       "      <td>1.293688e-03</td>\n",
       "      <td>0.035968</td>\n",
       "      <td>0.016958</td>\n",
       "      <td>-0.018648</td>\n",
       "      <td>0.33</td>\n",
       "      <td>0.33</td>\n",
       "    </tr>\n",
       "    <tr>\n",
       "      <th>...</th>\n",
       "      <td>...</td>\n",
       "      <td>...</td>\n",
       "      <td>...</td>\n",
       "      <td>...</td>\n",
       "      <td>...</td>\n",
       "      <td>...</td>\n",
       "      <td>...</td>\n",
       "      <td>...</td>\n",
       "      <td>...</td>\n",
       "      <td>...</td>\n",
       "      <td>...</td>\n",
       "    </tr>\n",
       "    <tr>\n",
       "      <th>588</th>\n",
       "      <td>-6.097577</td>\n",
       "      <td>-1.008158</td>\n",
       "      <td>7.674011</td>\n",
       "      <td>1.894256e-01</td>\n",
       "      <td>-1.008158</td>\n",
       "      <td>4.848981e+01</td>\n",
       "      <td>6.963463</td>\n",
       "      <td>3.332927</td>\n",
       "      <td>-3.552867</td>\n",
       "      <td>0.33</td>\n",
       "      <td>0.33</td>\n",
       "    </tr>\n",
       "    <tr>\n",
       "      <th>589</th>\n",
       "      <td>-6.099444</td>\n",
       "      <td>-1.007688</td>\n",
       "      <td>7.672688</td>\n",
       "      <td>1.885187e-01</td>\n",
       "      <td>-1.007688</td>\n",
       "      <td>4.849109e+01</td>\n",
       "      <td>6.963555</td>\n",
       "      <td>3.332500</td>\n",
       "      <td>-3.553566</td>\n",
       "      <td>0.33</td>\n",
       "      <td>0.33</td>\n",
       "    </tr>\n",
       "    <tr>\n",
       "      <th>590</th>\n",
       "      <td>-6.101551</td>\n",
       "      <td>-1.008121</td>\n",
       "      <td>7.670970</td>\n",
       "      <td>1.870995e-01</td>\n",
       "      <td>-1.008121</td>\n",
       "      <td>4.849200e+01</td>\n",
       "      <td>6.963620</td>\n",
       "      <td>3.331425</td>\n",
       "      <td>-3.554836</td>\n",
       "      <td>0.33</td>\n",
       "      <td>0.33</td>\n",
       "    </tr>\n",
       "    <tr>\n",
       "      <th>591</th>\n",
       "      <td>-6.103941</td>\n",
       "      <td>-1.009584</td>\n",
       "      <td>7.668865</td>\n",
       "      <td>1.851132e-01</td>\n",
       "      <td>-1.009584</td>\n",
       "      <td>4.849302e+01</td>\n",
       "      <td>6.963693</td>\n",
       "      <td>3.329640</td>\n",
       "      <td>-3.556762</td>\n",
       "      <td>0.33</td>\n",
       "      <td>0.33</td>\n",
       "    </tr>\n",
       "    <tr>\n",
       "      <th>592</th>\n",
       "      <td>-6.106286</td>\n",
       "      <td>-1.011681</td>\n",
       "      <td>7.666745</td>\n",
       "      <td>1.829258e-01</td>\n",
       "      <td>-1.011681</td>\n",
       "      <td>4.849441e+01</td>\n",
       "      <td>6.963793</td>\n",
       "      <td>3.327532</td>\n",
       "      <td>-3.558984</td>\n",
       "      <td>0.33</td>\n",
       "      <td>0.33</td>\n",
       "    </tr>\n",
       "  </tbody>\n",
       "</table>\n",
       "<p>593 rows × 11 columns</p>\n",
       "</div>"
      ],
      "text/plain": [
       "        Acc_X     Acc_Y     Acc_Z          Mean    Median      Variance  \\\n",
       "0   -0.000010 -0.000002  0.000013  2.067971e-07 -0.000002  1.376141e-10   \n",
       "1   -0.000177 -0.000029  0.000217  3.504927e-06 -0.000029  3.971203e-08   \n",
       "2   -0.001474 -0.000241  0.001802  2.900841e-05 -0.000241  2.737498e-06   \n",
       "3   -0.007999 -0.001311  0.009781  1.567945e-04 -0.001311  8.064677e-05   \n",
       "4   -0.032042 -0.005254  0.039170  6.246630e-04 -0.005254  1.293688e-03   \n",
       "..        ...       ...       ...           ...       ...           ...   \n",
       "588 -6.097577 -1.008158  7.674011  1.894256e-01 -1.008158  4.848981e+01   \n",
       "589 -6.099444 -1.007688  7.672688  1.885187e-01 -1.007688  4.849109e+01   \n",
       "590 -6.101551 -1.008121  7.670970  1.870995e-01 -1.008121  4.849200e+01   \n",
       "591 -6.103941 -1.009584  7.668865  1.851132e-01 -1.009584  4.849302e+01   \n",
       "592 -6.106286 -1.011681  7.666745  1.829258e-01 -1.011681  4.849441e+01   \n",
       "\n",
       "     Standard_Deviation        Q3        Q1   ZCR   MCR  \n",
       "0              0.000012  0.000006 -0.000006  0.33  0.33  \n",
       "1              0.000199  0.000094 -0.000103  0.33  0.33  \n",
       "2              0.001655  0.000780 -0.000858  0.33  0.33  \n",
       "3              0.008980  0.004235 -0.004655  0.33  0.33  \n",
       "4              0.035968  0.016958 -0.018648  0.33  0.33  \n",
       "..                  ...       ...       ...   ...   ...  \n",
       "588            6.963463  3.332927 -3.552867  0.33  0.33  \n",
       "589            6.963555  3.332500 -3.553566  0.33  0.33  \n",
       "590            6.963620  3.331425 -3.554836  0.33  0.33  \n",
       "591            6.963693  3.329640 -3.556762  0.33  0.33  \n",
       "592            6.963793  3.327532 -3.558984  0.33  0.33  \n",
       "\n",
       "[593 rows x 11 columns]"
      ]
     },
     "execution_count": 112,
     "metadata": {},
     "output_type": "execute_result"
    }
   ],
   "source": [
    "def getMCR(arr):\n",
    "    return getZCR(np.array(arr) - np.mean(arr))\n",
    "\n",
    "MCR=[]\n",
    "arr2=np.array(df.loc[:,['Acc_X','Acc_Y','Acc_Z']])\n",
    "\n",
    "for x in arr2:\n",
    "        MCR.append(getMCR(x))\n",
    "\n",
    "df['MCR']=MCR\n",
    "df"
   ]
  },
  {
   "cell_type": "code",
   "execution_count": 113,
   "id": "55e7c004",
   "metadata": {},
   "outputs": [
    {
     "data": {
      "text/html": [
       "<div>\n",
       "<style scoped>\n",
       "    .dataframe tbody tr th:only-of-type {\n",
       "        vertical-align: middle;\n",
       "    }\n",
       "\n",
       "    .dataframe tbody tr th {\n",
       "        vertical-align: top;\n",
       "    }\n",
       "\n",
       "    .dataframe thead th {\n",
       "        text-align: right;\n",
       "    }\n",
       "</style>\n",
       "<table border=\"1\" class=\"dataframe\">\n",
       "  <thead>\n",
       "    <tr style=\"text-align: right;\">\n",
       "      <th></th>\n",
       "      <th>Acc_X</th>\n",
       "      <th>Acc_Y</th>\n",
       "      <th>Acc_Z</th>\n",
       "      <th>Mean</th>\n",
       "      <th>Median</th>\n",
       "      <th>Variance</th>\n",
       "      <th>Standard_Deviation</th>\n",
       "      <th>Q3</th>\n",
       "      <th>Q1</th>\n",
       "      <th>ZCR</th>\n",
       "      <th>MCR</th>\n",
       "      <th>Entropy</th>\n",
       "    </tr>\n",
       "  </thead>\n",
       "  <tbody>\n",
       "    <tr>\n",
       "      <th>0</th>\n",
       "      <td>-0.000010</td>\n",
       "      <td>-0.000002</td>\n",
       "      <td>0.000013</td>\n",
       "      <td>2.067971e-07</td>\n",
       "      <td>-0.000002</td>\n",
       "      <td>1.376141e-10</td>\n",
       "      <td>0.000012</td>\n",
       "      <td>0.000006</td>\n",
       "      <td>-0.000006</td>\n",
       "      <td>0.33</td>\n",
       "      <td>0.33</td>\n",
       "      <td>1.098612</td>\n",
       "    </tr>\n",
       "    <tr>\n",
       "      <th>1</th>\n",
       "      <td>-0.000177</td>\n",
       "      <td>-0.000029</td>\n",
       "      <td>0.000217</td>\n",
       "      <td>3.504927e-06</td>\n",
       "      <td>-0.000029</td>\n",
       "      <td>3.971203e-08</td>\n",
       "      <td>0.000199</td>\n",
       "      <td>0.000094</td>\n",
       "      <td>-0.000103</td>\n",
       "      <td>0.33</td>\n",
       "      <td>0.33</td>\n",
       "      <td>1.098612</td>\n",
       "    </tr>\n",
       "    <tr>\n",
       "      <th>2</th>\n",
       "      <td>-0.001474</td>\n",
       "      <td>-0.000241</td>\n",
       "      <td>0.001802</td>\n",
       "      <td>2.900841e-05</td>\n",
       "      <td>-0.000241</td>\n",
       "      <td>2.737498e-06</td>\n",
       "      <td>0.001655</td>\n",
       "      <td>0.000780</td>\n",
       "      <td>-0.000858</td>\n",
       "      <td>0.33</td>\n",
       "      <td>0.33</td>\n",
       "      <td>1.098612</td>\n",
       "    </tr>\n",
       "    <tr>\n",
       "      <th>3</th>\n",
       "      <td>-0.007999</td>\n",
       "      <td>-0.001311</td>\n",
       "      <td>0.009781</td>\n",
       "      <td>1.567945e-04</td>\n",
       "      <td>-0.001311</td>\n",
       "      <td>8.064677e-05</td>\n",
       "      <td>0.008980</td>\n",
       "      <td>0.004235</td>\n",
       "      <td>-0.004655</td>\n",
       "      <td>0.33</td>\n",
       "      <td>0.33</td>\n",
       "      <td>1.098612</td>\n",
       "    </tr>\n",
       "    <tr>\n",
       "      <th>4</th>\n",
       "      <td>-0.032042</td>\n",
       "      <td>-0.005254</td>\n",
       "      <td>0.039170</td>\n",
       "      <td>6.246630e-04</td>\n",
       "      <td>-0.005254</td>\n",
       "      <td>1.293688e-03</td>\n",
       "      <td>0.035968</td>\n",
       "      <td>0.016958</td>\n",
       "      <td>-0.018648</td>\n",
       "      <td>0.33</td>\n",
       "      <td>0.33</td>\n",
       "      <td>1.098612</td>\n",
       "    </tr>\n",
       "    <tr>\n",
       "      <th>...</th>\n",
       "      <td>...</td>\n",
       "      <td>...</td>\n",
       "      <td>...</td>\n",
       "      <td>...</td>\n",
       "      <td>...</td>\n",
       "      <td>...</td>\n",
       "      <td>...</td>\n",
       "      <td>...</td>\n",
       "      <td>...</td>\n",
       "      <td>...</td>\n",
       "      <td>...</td>\n",
       "      <td>...</td>\n",
       "    </tr>\n",
       "    <tr>\n",
       "      <th>588</th>\n",
       "      <td>-6.097577</td>\n",
       "      <td>-1.008158</td>\n",
       "      <td>7.674011</td>\n",
       "      <td>1.894256e-01</td>\n",
       "      <td>-1.008158</td>\n",
       "      <td>4.848981e+01</td>\n",
       "      <td>6.963463</td>\n",
       "      <td>3.332927</td>\n",
       "      <td>-3.552867</td>\n",
       "      <td>0.33</td>\n",
       "      <td>0.33</td>\n",
       "      <td>1.098612</td>\n",
       "    </tr>\n",
       "    <tr>\n",
       "      <th>589</th>\n",
       "      <td>-6.099444</td>\n",
       "      <td>-1.007688</td>\n",
       "      <td>7.672688</td>\n",
       "      <td>1.885187e-01</td>\n",
       "      <td>-1.007688</td>\n",
       "      <td>4.849109e+01</td>\n",
       "      <td>6.963555</td>\n",
       "      <td>3.332500</td>\n",
       "      <td>-3.553566</td>\n",
       "      <td>0.33</td>\n",
       "      <td>0.33</td>\n",
       "      <td>1.098612</td>\n",
       "    </tr>\n",
       "    <tr>\n",
       "      <th>590</th>\n",
       "      <td>-6.101551</td>\n",
       "      <td>-1.008121</td>\n",
       "      <td>7.670970</td>\n",
       "      <td>1.870995e-01</td>\n",
       "      <td>-1.008121</td>\n",
       "      <td>4.849200e+01</td>\n",
       "      <td>6.963620</td>\n",
       "      <td>3.331425</td>\n",
       "      <td>-3.554836</td>\n",
       "      <td>0.33</td>\n",
       "      <td>0.33</td>\n",
       "      <td>1.098612</td>\n",
       "    </tr>\n",
       "    <tr>\n",
       "      <th>591</th>\n",
       "      <td>-6.103941</td>\n",
       "      <td>-1.009584</td>\n",
       "      <td>7.668865</td>\n",
       "      <td>1.851132e-01</td>\n",
       "      <td>-1.009584</td>\n",
       "      <td>4.849302e+01</td>\n",
       "      <td>6.963693</td>\n",
       "      <td>3.329640</td>\n",
       "      <td>-3.556762</td>\n",
       "      <td>0.33</td>\n",
       "      <td>0.33</td>\n",
       "      <td>1.098612</td>\n",
       "    </tr>\n",
       "    <tr>\n",
       "      <th>592</th>\n",
       "      <td>-6.106286</td>\n",
       "      <td>-1.011681</td>\n",
       "      <td>7.666745</td>\n",
       "      <td>1.829258e-01</td>\n",
       "      <td>-1.011681</td>\n",
       "      <td>4.849441e+01</td>\n",
       "      <td>6.963793</td>\n",
       "      <td>3.327532</td>\n",
       "      <td>-3.558984</td>\n",
       "      <td>0.33</td>\n",
       "      <td>0.33</td>\n",
       "      <td>1.098612</td>\n",
       "    </tr>\n",
       "  </tbody>\n",
       "</table>\n",
       "<p>593 rows × 12 columns</p>\n",
       "</div>"
      ],
      "text/plain": [
       "        Acc_X     Acc_Y     Acc_Z          Mean    Median      Variance  \\\n",
       "0   -0.000010 -0.000002  0.000013  2.067971e-07 -0.000002  1.376141e-10   \n",
       "1   -0.000177 -0.000029  0.000217  3.504927e-06 -0.000029  3.971203e-08   \n",
       "2   -0.001474 -0.000241  0.001802  2.900841e-05 -0.000241  2.737498e-06   \n",
       "3   -0.007999 -0.001311  0.009781  1.567945e-04 -0.001311  8.064677e-05   \n",
       "4   -0.032042 -0.005254  0.039170  6.246630e-04 -0.005254  1.293688e-03   \n",
       "..        ...       ...       ...           ...       ...           ...   \n",
       "588 -6.097577 -1.008158  7.674011  1.894256e-01 -1.008158  4.848981e+01   \n",
       "589 -6.099444 -1.007688  7.672688  1.885187e-01 -1.007688  4.849109e+01   \n",
       "590 -6.101551 -1.008121  7.670970  1.870995e-01 -1.008121  4.849200e+01   \n",
       "591 -6.103941 -1.009584  7.668865  1.851132e-01 -1.009584  4.849302e+01   \n",
       "592 -6.106286 -1.011681  7.666745  1.829258e-01 -1.011681  4.849441e+01   \n",
       "\n",
       "     Standard_Deviation        Q3        Q1   ZCR   MCR   Entropy  \n",
       "0              0.000012  0.000006 -0.000006  0.33  0.33  1.098612  \n",
       "1              0.000199  0.000094 -0.000103  0.33  0.33  1.098612  \n",
       "2              0.001655  0.000780 -0.000858  0.33  0.33  1.098612  \n",
       "3              0.008980  0.004235 -0.004655  0.33  0.33  1.098612  \n",
       "4              0.035968  0.016958 -0.018648  0.33  0.33  1.098612  \n",
       "..                  ...       ...       ...   ...   ...       ...  \n",
       "588            6.963463  3.332927 -3.552867  0.33  0.33  1.098612  \n",
       "589            6.963555  3.332500 -3.553566  0.33  0.33  1.098612  \n",
       "590            6.963620  3.331425 -3.554836  0.33  0.33  1.098612  \n",
       "591            6.963693  3.329640 -3.556762  0.33  0.33  1.098612  \n",
       "592            6.963793  3.327532 -3.558984  0.33  0.33  1.098612  \n",
       "\n",
       "[593 rows x 12 columns]"
      ]
     },
     "execution_count": 113,
     "metadata": {},
     "output_type": "execute_result"
    }
   ],
   "source": [
    "from math import e\n",
    "def entropy4(labels, base=None):\n",
    "    value,counts = np.unique(labels, return_counts=True)\n",
    "    norm_counts = counts / counts.sum()\n",
    "    base = e if base is None else base\n",
    "    return -(norm_counts * np.log(norm_counts)/np.log(base)).sum()\n",
    "\n",
    "y=[]\n",
    "sort=np.sort(df.loc[:,['Acc_X','Acc_Y','Acc_Z']],axis=1)\n",
    "\n",
    "for x in sort:\n",
    "    y.append(entropy4(x))\n",
    "df['Entropy']=y\n",
    "df"
   ]
  },
  {
   "cell_type": "code",
   "execution_count": 114,
   "id": "020ac809",
   "metadata": {},
   "outputs": [
    {
     "data": {
      "text/html": [
       "<div>\n",
       "<style scoped>\n",
       "    .dataframe tbody tr th:only-of-type {\n",
       "        vertical-align: middle;\n",
       "    }\n",
       "\n",
       "    .dataframe tbody tr th {\n",
       "        vertical-align: top;\n",
       "    }\n",
       "\n",
       "    .dataframe thead th {\n",
       "        text-align: right;\n",
       "    }\n",
       "</style>\n",
       "<table border=\"1\" class=\"dataframe\">\n",
       "  <thead>\n",
       "    <tr style=\"text-align: right;\">\n",
       "      <th></th>\n",
       "      <th>Acc_X</th>\n",
       "      <th>Acc_Y</th>\n",
       "      <th>Acc_Z</th>\n",
       "      <th>Mean</th>\n",
       "      <th>Median</th>\n",
       "      <th>Variance</th>\n",
       "      <th>Standard_Deviation</th>\n",
       "      <th>Q3</th>\n",
       "      <th>Q1</th>\n",
       "      <th>ZCR</th>\n",
       "      <th>MCR</th>\n",
       "      <th>Entropy</th>\n",
       "      <th>RMS</th>\n",
       "    </tr>\n",
       "  </thead>\n",
       "  <tbody>\n",
       "    <tr>\n",
       "      <th>0</th>\n",
       "      <td>-0.000010</td>\n",
       "      <td>-0.000002</td>\n",
       "      <td>0.000013</td>\n",
       "      <td>2.067971e-07</td>\n",
       "      <td>-0.000002</td>\n",
       "      <td>1.376141e-10</td>\n",
       "      <td>0.000012</td>\n",
       "      <td>0.000006</td>\n",
       "      <td>-0.000006</td>\n",
       "      <td>0.33</td>\n",
       "      <td>0.33</td>\n",
       "      <td>1.098612</td>\n",
       "      <td>0.000010</td>\n",
       "    </tr>\n",
       "    <tr>\n",
       "      <th>1</th>\n",
       "      <td>-0.000177</td>\n",
       "      <td>-0.000029</td>\n",
       "      <td>0.000217</td>\n",
       "      <td>3.504927e-06</td>\n",
       "      <td>-0.000029</td>\n",
       "      <td>3.971203e-08</td>\n",
       "      <td>0.000199</td>\n",
       "      <td>0.000094</td>\n",
       "      <td>-0.000103</td>\n",
       "      <td>0.33</td>\n",
       "      <td>0.33</td>\n",
       "      <td>1.098612</td>\n",
       "      <td>0.000163</td>\n",
       "    </tr>\n",
       "    <tr>\n",
       "      <th>2</th>\n",
       "      <td>-0.001474</td>\n",
       "      <td>-0.000241</td>\n",
       "      <td>0.001802</td>\n",
       "      <td>2.900841e-05</td>\n",
       "      <td>-0.000241</td>\n",
       "      <td>2.737498e-06</td>\n",
       "      <td>0.001655</td>\n",
       "      <td>0.000780</td>\n",
       "      <td>-0.000858</td>\n",
       "      <td>0.33</td>\n",
       "      <td>0.33</td>\n",
       "      <td>1.098612</td>\n",
       "      <td>0.001351</td>\n",
       "    </tr>\n",
       "    <tr>\n",
       "      <th>3</th>\n",
       "      <td>-0.007999</td>\n",
       "      <td>-0.001311</td>\n",
       "      <td>0.009781</td>\n",
       "      <td>1.567945e-04</td>\n",
       "      <td>-0.001311</td>\n",
       "      <td>8.064677e-05</td>\n",
       "      <td>0.008980</td>\n",
       "      <td>0.004235</td>\n",
       "      <td>-0.004655</td>\n",
       "      <td>0.33</td>\n",
       "      <td>0.33</td>\n",
       "      <td>1.098612</td>\n",
       "      <td>0.007334</td>\n",
       "    </tr>\n",
       "    <tr>\n",
       "      <th>4</th>\n",
       "      <td>-0.032042</td>\n",
       "      <td>-0.005254</td>\n",
       "      <td>0.039170</td>\n",
       "      <td>6.246630e-04</td>\n",
       "      <td>-0.005254</td>\n",
       "      <td>1.293688e-03</td>\n",
       "      <td>0.035968</td>\n",
       "      <td>0.016958</td>\n",
       "      <td>-0.018648</td>\n",
       "      <td>0.33</td>\n",
       "      <td>0.33</td>\n",
       "      <td>1.098612</td>\n",
       "      <td>0.029374</td>\n",
       "    </tr>\n",
       "    <tr>\n",
       "      <th>...</th>\n",
       "      <td>...</td>\n",
       "      <td>...</td>\n",
       "      <td>...</td>\n",
       "      <td>...</td>\n",
       "      <td>...</td>\n",
       "      <td>...</td>\n",
       "      <td>...</td>\n",
       "      <td>...</td>\n",
       "      <td>...</td>\n",
       "      <td>...</td>\n",
       "      <td>...</td>\n",
       "      <td>...</td>\n",
       "      <td>...</td>\n",
       "    </tr>\n",
       "    <tr>\n",
       "      <th>588</th>\n",
       "      <td>-6.097577</td>\n",
       "      <td>-1.008158</td>\n",
       "      <td>7.674011</td>\n",
       "      <td>1.894256e-01</td>\n",
       "      <td>-1.008158</td>\n",
       "      <td>4.848981e+01</td>\n",
       "      <td>6.963463</td>\n",
       "      <td>3.332927</td>\n",
       "      <td>-3.552867</td>\n",
       "      <td>0.33</td>\n",
       "      <td>0.33</td>\n",
       "      <td>1.098612</td>\n",
       "      <td>5.688798</td>\n",
       "    </tr>\n",
       "    <tr>\n",
       "      <th>589</th>\n",
       "      <td>-6.099444</td>\n",
       "      <td>-1.007688</td>\n",
       "      <td>7.672688</td>\n",
       "      <td>1.885187e-01</td>\n",
       "      <td>-1.007688</td>\n",
       "      <td>4.849109e+01</td>\n",
       "      <td>6.963555</td>\n",
       "      <td>3.332500</td>\n",
       "      <td>-3.553566</td>\n",
       "      <td>0.33</td>\n",
       "      <td>0.33</td>\n",
       "      <td>1.098612</td>\n",
       "      <td>5.688843</td>\n",
       "    </tr>\n",
       "    <tr>\n",
       "      <th>590</th>\n",
       "      <td>-6.101551</td>\n",
       "      <td>-1.008121</td>\n",
       "      <td>7.670970</td>\n",
       "      <td>1.870995e-01</td>\n",
       "      <td>-1.008121</td>\n",
       "      <td>4.849200e+01</td>\n",
       "      <td>6.963620</td>\n",
       "      <td>3.331425</td>\n",
       "      <td>-3.554836</td>\n",
       "      <td>0.33</td>\n",
       "      <td>0.33</td>\n",
       "      <td>1.098612</td>\n",
       "      <td>5.688849</td>\n",
       "    </tr>\n",
       "    <tr>\n",
       "      <th>591</th>\n",
       "      <td>-6.103941</td>\n",
       "      <td>-1.009584</td>\n",
       "      <td>7.668865</td>\n",
       "      <td>1.851132e-01</td>\n",
       "      <td>-1.009584</td>\n",
       "      <td>4.849302e+01</td>\n",
       "      <td>6.963693</td>\n",
       "      <td>3.329640</td>\n",
       "      <td>-3.556762</td>\n",
       "      <td>0.33</td>\n",
       "      <td>0.33</td>\n",
       "      <td>1.098612</td>\n",
       "      <td>5.688844</td>\n",
       "    </tr>\n",
       "    <tr>\n",
       "      <th>592</th>\n",
       "      <td>-6.106286</td>\n",
       "      <td>-1.011681</td>\n",
       "      <td>7.666745</td>\n",
       "      <td>1.829258e-01</td>\n",
       "      <td>-1.011681</td>\n",
       "      <td>4.849441e+01</td>\n",
       "      <td>6.963793</td>\n",
       "      <td>3.327532</td>\n",
       "      <td>-3.558984</td>\n",
       "      <td>0.33</td>\n",
       "      <td>0.33</td>\n",
       "      <td>1.098612</td>\n",
       "      <td>5.688855</td>\n",
       "    </tr>\n",
       "  </tbody>\n",
       "</table>\n",
       "<p>593 rows × 13 columns</p>\n",
       "</div>"
      ],
      "text/plain": [
       "        Acc_X     Acc_Y     Acc_Z          Mean    Median      Variance  \\\n",
       "0   -0.000010 -0.000002  0.000013  2.067971e-07 -0.000002  1.376141e-10   \n",
       "1   -0.000177 -0.000029  0.000217  3.504927e-06 -0.000029  3.971203e-08   \n",
       "2   -0.001474 -0.000241  0.001802  2.900841e-05 -0.000241  2.737498e-06   \n",
       "3   -0.007999 -0.001311  0.009781  1.567945e-04 -0.001311  8.064677e-05   \n",
       "4   -0.032042 -0.005254  0.039170  6.246630e-04 -0.005254  1.293688e-03   \n",
       "..        ...       ...       ...           ...       ...           ...   \n",
       "588 -6.097577 -1.008158  7.674011  1.894256e-01 -1.008158  4.848981e+01   \n",
       "589 -6.099444 -1.007688  7.672688  1.885187e-01 -1.007688  4.849109e+01   \n",
       "590 -6.101551 -1.008121  7.670970  1.870995e-01 -1.008121  4.849200e+01   \n",
       "591 -6.103941 -1.009584  7.668865  1.851132e-01 -1.009584  4.849302e+01   \n",
       "592 -6.106286 -1.011681  7.666745  1.829258e-01 -1.011681  4.849441e+01   \n",
       "\n",
       "     Standard_Deviation        Q3        Q1   ZCR   MCR   Entropy       RMS  \n",
       "0              0.000012  0.000006 -0.000006  0.33  0.33  1.098612  0.000010  \n",
       "1              0.000199  0.000094 -0.000103  0.33  0.33  1.098612  0.000163  \n",
       "2              0.001655  0.000780 -0.000858  0.33  0.33  1.098612  0.001351  \n",
       "3              0.008980  0.004235 -0.004655  0.33  0.33  1.098612  0.007334  \n",
       "4              0.035968  0.016958 -0.018648  0.33  0.33  1.098612  0.029374  \n",
       "..                  ...       ...       ...   ...   ...       ...       ...  \n",
       "588            6.963463  3.332927 -3.552867  0.33  0.33  1.098612  5.688798  \n",
       "589            6.963555  3.332500 -3.553566  0.33  0.33  1.098612  5.688843  \n",
       "590            6.963620  3.331425 -3.554836  0.33  0.33  1.098612  5.688849  \n",
       "591            6.963693  3.329640 -3.556762  0.33  0.33  1.098612  5.688844  \n",
       "592            6.963793  3.327532 -3.558984  0.33  0.33  1.098612  5.688855  \n",
       "\n",
       "[593 rows x 13 columns]"
      ]
     },
     "execution_count": 114,
     "metadata": {},
     "output_type": "execute_result"
    }
   ],
   "source": [
    "for index, row in df.iterrows():\n",
    "     rms=np.sqrt(((df['Acc_X'] ** 2) + (df['Acc_Y'] ** 2) +(df['Acc_Z'] ** 2))/3)\n",
    "df['RMS']=rms\n",
    "df"
   ]
  },
  {
   "cell_type": "code",
   "execution_count": 115,
   "id": "1355e587",
   "metadata": {},
   "outputs": [
    {
     "data": {
      "text/html": [
       "<div>\n",
       "<style scoped>\n",
       "    .dataframe tbody tr th:only-of-type {\n",
       "        vertical-align: middle;\n",
       "    }\n",
       "\n",
       "    .dataframe tbody tr th {\n",
       "        vertical-align: top;\n",
       "    }\n",
       "\n",
       "    .dataframe thead th {\n",
       "        text-align: right;\n",
       "    }\n",
       "</style>\n",
       "<table border=\"1\" class=\"dataframe\">\n",
       "  <thead>\n",
       "    <tr style=\"text-align: right;\">\n",
       "      <th></th>\n",
       "      <th>Acc_X</th>\n",
       "      <th>Acc_Y</th>\n",
       "      <th>Acc_Z</th>\n",
       "      <th>Mean</th>\n",
       "      <th>Median</th>\n",
       "      <th>Variance</th>\n",
       "      <th>Standard_Deviation</th>\n",
       "      <th>Q3</th>\n",
       "      <th>Q1</th>\n",
       "      <th>ZCR</th>\n",
       "      <th>MCR</th>\n",
       "      <th>Entropy</th>\n",
       "      <th>RMS</th>\n",
       "    </tr>\n",
       "  </thead>\n",
       "  <tbody>\n",
       "    <tr>\n",
       "      <th>0</th>\n",
       "      <td>-0.000010</td>\n",
       "      <td>-0.000002</td>\n",
       "      <td>0.000013</td>\n",
       "      <td>2.067971e-07</td>\n",
       "      <td>-0.000002</td>\n",
       "      <td>1.376141e-10</td>\n",
       "      <td>0.000012</td>\n",
       "      <td>0.000006</td>\n",
       "      <td>-0.000006</td>\n",
       "      <td>0.33</td>\n",
       "      <td>0.33</td>\n",
       "      <td>1.098612</td>\n",
       "      <td>0.000010</td>\n",
       "    </tr>\n",
       "    <tr>\n",
       "      <th>1</th>\n",
       "      <td>-0.000177</td>\n",
       "      <td>-0.000029</td>\n",
       "      <td>0.000217</td>\n",
       "      <td>3.504927e-06</td>\n",
       "      <td>-0.000029</td>\n",
       "      <td>3.971203e-08</td>\n",
       "      <td>0.000199</td>\n",
       "      <td>0.000094</td>\n",
       "      <td>-0.000103</td>\n",
       "      <td>0.33</td>\n",
       "      <td>0.33</td>\n",
       "      <td>1.098612</td>\n",
       "      <td>0.000163</td>\n",
       "    </tr>\n",
       "    <tr>\n",
       "      <th>2</th>\n",
       "      <td>-0.001474</td>\n",
       "      <td>-0.000241</td>\n",
       "      <td>0.001802</td>\n",
       "      <td>2.900841e-05</td>\n",
       "      <td>-0.000241</td>\n",
       "      <td>2.737498e-06</td>\n",
       "      <td>0.001655</td>\n",
       "      <td>0.000780</td>\n",
       "      <td>-0.000858</td>\n",
       "      <td>0.33</td>\n",
       "      <td>0.33</td>\n",
       "      <td>1.098612</td>\n",
       "      <td>0.001351</td>\n",
       "    </tr>\n",
       "    <tr>\n",
       "      <th>3</th>\n",
       "      <td>-0.007999</td>\n",
       "      <td>-0.001311</td>\n",
       "      <td>0.009781</td>\n",
       "      <td>1.567945e-04</td>\n",
       "      <td>-0.001311</td>\n",
       "      <td>8.064677e-05</td>\n",
       "      <td>0.008980</td>\n",
       "      <td>0.004235</td>\n",
       "      <td>-0.004655</td>\n",
       "      <td>0.33</td>\n",
       "      <td>0.33</td>\n",
       "      <td>1.098612</td>\n",
       "      <td>0.007334</td>\n",
       "    </tr>\n",
       "    <tr>\n",
       "      <th>4</th>\n",
       "      <td>-0.032042</td>\n",
       "      <td>-0.005254</td>\n",
       "      <td>0.039170</td>\n",
       "      <td>6.246630e-04</td>\n",
       "      <td>-0.005254</td>\n",
       "      <td>1.293688e-03</td>\n",
       "      <td>0.035968</td>\n",
       "      <td>0.016958</td>\n",
       "      <td>-0.018648</td>\n",
       "      <td>0.33</td>\n",
       "      <td>0.33</td>\n",
       "      <td>1.098612</td>\n",
       "      <td>0.029374</td>\n",
       "    </tr>\n",
       "    <tr>\n",
       "      <th>...</th>\n",
       "      <td>...</td>\n",
       "      <td>...</td>\n",
       "      <td>...</td>\n",
       "      <td>...</td>\n",
       "      <td>...</td>\n",
       "      <td>...</td>\n",
       "      <td>...</td>\n",
       "      <td>...</td>\n",
       "      <td>...</td>\n",
       "      <td>...</td>\n",
       "      <td>...</td>\n",
       "      <td>...</td>\n",
       "      <td>...</td>\n",
       "    </tr>\n",
       "    <tr>\n",
       "      <th>588</th>\n",
       "      <td>-6.097577</td>\n",
       "      <td>-1.008158</td>\n",
       "      <td>7.674011</td>\n",
       "      <td>1.894256e-01</td>\n",
       "      <td>-1.008158</td>\n",
       "      <td>4.848981e+01</td>\n",
       "      <td>6.963463</td>\n",
       "      <td>3.332927</td>\n",
       "      <td>-3.552867</td>\n",
       "      <td>0.33</td>\n",
       "      <td>0.33</td>\n",
       "      <td>1.098612</td>\n",
       "      <td>5.688798</td>\n",
       "    </tr>\n",
       "    <tr>\n",
       "      <th>589</th>\n",
       "      <td>-6.099444</td>\n",
       "      <td>-1.007688</td>\n",
       "      <td>7.672688</td>\n",
       "      <td>1.885187e-01</td>\n",
       "      <td>-1.007688</td>\n",
       "      <td>4.849109e+01</td>\n",
       "      <td>6.963555</td>\n",
       "      <td>3.332500</td>\n",
       "      <td>-3.553566</td>\n",
       "      <td>0.33</td>\n",
       "      <td>0.33</td>\n",
       "      <td>1.098612</td>\n",
       "      <td>5.688843</td>\n",
       "    </tr>\n",
       "    <tr>\n",
       "      <th>590</th>\n",
       "      <td>-6.101551</td>\n",
       "      <td>-1.008121</td>\n",
       "      <td>7.670970</td>\n",
       "      <td>1.870995e-01</td>\n",
       "      <td>-1.008121</td>\n",
       "      <td>4.849200e+01</td>\n",
       "      <td>6.963620</td>\n",
       "      <td>3.331425</td>\n",
       "      <td>-3.554836</td>\n",
       "      <td>0.33</td>\n",
       "      <td>0.33</td>\n",
       "      <td>1.098612</td>\n",
       "      <td>5.688849</td>\n",
       "    </tr>\n",
       "    <tr>\n",
       "      <th>591</th>\n",
       "      <td>-6.103941</td>\n",
       "      <td>-1.009584</td>\n",
       "      <td>7.668865</td>\n",
       "      <td>1.851132e-01</td>\n",
       "      <td>-1.009584</td>\n",
       "      <td>4.849302e+01</td>\n",
       "      <td>6.963693</td>\n",
       "      <td>3.329640</td>\n",
       "      <td>-3.556762</td>\n",
       "      <td>0.33</td>\n",
       "      <td>0.33</td>\n",
       "      <td>1.098612</td>\n",
       "      <td>5.688844</td>\n",
       "    </tr>\n",
       "    <tr>\n",
       "      <th>592</th>\n",
       "      <td>-6.106286</td>\n",
       "      <td>-1.011681</td>\n",
       "      <td>7.666745</td>\n",
       "      <td>1.829258e-01</td>\n",
       "      <td>-1.011681</td>\n",
       "      <td>4.849441e+01</td>\n",
       "      <td>6.963793</td>\n",
       "      <td>3.327532</td>\n",
       "      <td>-3.558984</td>\n",
       "      <td>0.33</td>\n",
       "      <td>0.33</td>\n",
       "      <td>1.098612</td>\n",
       "      <td>5.688855</td>\n",
       "    </tr>\n",
       "  </tbody>\n",
       "</table>\n",
       "<p>593 rows × 13 columns</p>\n",
       "</div>"
      ],
      "text/plain": [
       "        Acc_X     Acc_Y     Acc_Z          Mean    Median      Variance  \\\n",
       "0   -0.000010 -0.000002  0.000013  2.067971e-07 -0.000002  1.376141e-10   \n",
       "1   -0.000177 -0.000029  0.000217  3.504927e-06 -0.000029  3.971203e-08   \n",
       "2   -0.001474 -0.000241  0.001802  2.900841e-05 -0.000241  2.737498e-06   \n",
       "3   -0.007999 -0.001311  0.009781  1.567945e-04 -0.001311  8.064677e-05   \n",
       "4   -0.032042 -0.005254  0.039170  6.246630e-04 -0.005254  1.293688e-03   \n",
       "..        ...       ...       ...           ...       ...           ...   \n",
       "588 -6.097577 -1.008158  7.674011  1.894256e-01 -1.008158  4.848981e+01   \n",
       "589 -6.099444 -1.007688  7.672688  1.885187e-01 -1.007688  4.849109e+01   \n",
       "590 -6.101551 -1.008121  7.670970  1.870995e-01 -1.008121  4.849200e+01   \n",
       "591 -6.103941 -1.009584  7.668865  1.851132e-01 -1.009584  4.849302e+01   \n",
       "592 -6.106286 -1.011681  7.666745  1.829258e-01 -1.011681  4.849441e+01   \n",
       "\n",
       "     Standard_Deviation        Q3        Q1   ZCR   MCR   Entropy       RMS  \n",
       "0              0.000012  0.000006 -0.000006  0.33  0.33  1.098612  0.000010  \n",
       "1              0.000199  0.000094 -0.000103  0.33  0.33  1.098612  0.000163  \n",
       "2              0.001655  0.000780 -0.000858  0.33  0.33  1.098612  0.001351  \n",
       "3              0.008980  0.004235 -0.004655  0.33  0.33  1.098612  0.007334  \n",
       "4              0.035968  0.016958 -0.018648  0.33  0.33  1.098612  0.029374  \n",
       "..                  ...       ...       ...   ...   ...       ...       ...  \n",
       "588            6.963463  3.332927 -3.552867  0.33  0.33  1.098612  5.688798  \n",
       "589            6.963555  3.332500 -3.553566  0.33  0.33  1.098612  5.688843  \n",
       "590            6.963620  3.331425 -3.554836  0.33  0.33  1.098612  5.688849  \n",
       "591            6.963693  3.329640 -3.556762  0.33  0.33  1.098612  5.688844  \n",
       "592            6.963793  3.327532 -3.558984  0.33  0.33  1.098612  5.688855  \n",
       "\n",
       "[593 rows x 13 columns]"
      ]
     },
     "execution_count": 115,
     "metadata": {},
     "output_type": "execute_result"
    }
   ],
   "source": [
    "X=df\n",
    "df"
   ]
  },
  {
   "cell_type": "code",
   "execution_count": 116,
   "id": "11dda5d8",
   "metadata": {},
   "outputs": [
    {
     "name": "stdout",
     "output_type": "stream",
     "text": [
      "SEGMENTS SHAPE:  (583, 13, 10)\n"
     ]
    }
   ],
   "source": [
    "N_TIME_STEPS = 10\n",
    "N_FEATURES = 13\n",
    "step = 1\n",
    "segments = []\n",
    "labels = []\n",
    "\n",
    "#segemting data\n",
    "for i in range(0, len(df) - N_TIME_STEPS, step):\n",
    "    accxs = df['Acc_X'].values[i: i + N_TIME_STEPS]\n",
    "    accys = df['Acc_Y'].values[i: i + N_TIME_STEPS]\n",
    "    acczs = df['Acc_Z'].values[i: i + N_TIME_STEPS]\n",
    "    mean = df['Mean'].values[i: i + N_TIME_STEPS]\n",
    "    median = df['Median'].values[i: i + N_TIME_STEPS]\n",
    "    variance = df['Variance'].values[i: i + N_TIME_STEPS]\n",
    "    SD = df['Standard_Deviation'].values[i: i + N_TIME_STEPS]\n",
    "    rms = df['RMS'].values[i: i + N_TIME_STEPS]\n",
    "    q3 = df['Q3'].values[i: i + N_TIME_STEPS]\n",
    "    q1 = df['Q1'].values[i: i + N_TIME_STEPS]\n",
    "    Zcr = df['ZCR'].values[i: i + N_TIME_STEPS]\n",
    "    mcr = df['MCR'].values[i: i + N_TIME_STEPS]\n",
    "    entrophy = df['Entropy'].values[i: i + N_TIME_STEPS]\n",
    "    \n",
    "#     label = stats.mode(df['Class'][i: i + N_TIME_STEPS])[0][0]\n",
    "    segments.append([accxs, accys, acczs,mean,median,variance,SD,rms,q3,q1,Zcr,mcr,entrophy]) \n",
    "#     labels.append(label)\n",
    "    \n",
    "\n",
    "print(\"SEGMENTS SHAPE: \",np.array(segments).shape)\n",
    "# print(\"LABELS SHAPE: \",np.array(labels).shape)"
   ]
  },
  {
   "cell_type": "code",
   "execution_count": 117,
   "id": "4df7277c",
   "metadata": {},
   "outputs": [
    {
     "name": "stdout",
     "output_type": "stream",
     "text": [
      "RESHAPE SHAPE:  (583, 10, 13)\n"
     ]
    }
   ],
   "source": [
    "reshaped_segments = np.asarray(segments, dtype= np.float32).reshape(-1, N_TIME_STEPS, N_FEATURES)\n",
    "print(\"RESHAPE SHAPE: \",reshaped_segments.shape)"
   ]
  },
  {
   "cell_type": "code",
   "execution_count": 118,
   "id": "20d7b893",
   "metadata": {},
   "outputs": [
    {
     "name": "stdout",
     "output_type": "stream",
     "text": [
      "X_train shape: (466, 10, 13)\n",
      "X_test shape: (117, 10, 13)\n"
     ]
    }
   ],
   "source": [
    "X_train, X_test = train_test_split(reshaped_segments, test_size=0.20) # 0.25 x 0.8 = 0.2\n",
    "print(\"X_train shape: {}\".format(X_train.shape))\n",
    "print(\"X_test shape: {}\".format(X_test.shape))\n",
    "# print(\"y_train shape: {}\".format(y_train.shape))\n",
    "# print(\"y_test shape: {}\".format(y_test.shape))\n",
    "# print(\"X_val shape: {}\".format(X_val.shape))\n",
    "# print(\"y val shape: {}\".format(y_val.shape))"
   ]
  },
  {
   "cell_type": "code",
   "execution_count": 34,
   "id": "6a381c09",
   "metadata": {},
   "outputs": [],
   "source": [
    "# X1=reshaped_segments.shape\n",
    "# # X1 = np.expand_dims(X1, 1)\n",
    "# X1"
   ]
  },
  {
   "cell_type": "code",
   "execution_count": 119,
   "id": "4d5cb5a3",
   "metadata": {},
   "outputs": [
    {
     "data": {
      "text/plain": [
       "<keras.engine.sequential.Sequential at 0x2e721521d00>"
      ]
     },
     "execution_count": 119,
     "metadata": {},
     "output_type": "execute_result"
    }
   ],
   "source": [
    "from keras.models import Sequential\n",
    "from keras.layers import Dense\n",
    "from keras.layers import LSTM\n",
    "from numpy import array\n",
    "from keras.models import load_model\n",
    "\n",
    "loaded_model=tf.keras.models.load_model(\"modelall9503.h5\")\n",
    "loaded_model"
   ]
  },
  {
   "cell_type": "code",
   "execution_count": null,
   "id": "a5a1b223",
   "metadata": {},
   "outputs": [],
   "source": [
    "predict_x=(loaded_model.predict(X_train) > 0.5).astype(\"int32\")\n",
    "classes_x=np.argmax(predict_x,axis=1)\n"
   ]
  },
  {
   "cell_type": "code",
   "execution_count": 30,
   "id": "c7745d15",
   "metadata": {},
   "outputs": [
    {
     "data": {
      "text/plain": [
       "array([12, 12, 12, 12, 12, 12, 12, 12, 12, 12, 12, 12, 12, 12, 12, 12, 12,\n",
       "       12, 12, 12, 12, 12, 12, 12, 12, 12, 12, 12, 12, 12, 12, 12, 12, 12,\n",
       "       12, 12, 12, 12, 12, 12, 12, 12, 12, 12, 12, 12, 12, 12, 12, 12, 12,\n",
       "       12, 12, 12, 12, 12, 12, 12, 12, 12, 12, 12, 12, 12, 12, 12, 12, 12,\n",
       "       12, 12, 12, 12, 12, 12, 12, 12, 12, 12, 12, 12, 12, 12, 12, 12, 12,\n",
       "       12, 12, 12, 12, 12, 12, 12, 12, 12, 12, 12, 12, 12, 12, 12, 12, 12,\n",
       "       12, 12, 12, 12, 12, 12, 12, 12, 12, 12, 12, 12, 12, 12, 12],\n",
       "      dtype=int64)"
      ]
     },
     "execution_count": 30,
     "metadata": {},
     "output_type": "execute_result"
    }
   ],
   "source": [
    "classes_x"
   ]
  },
  {
   "cell_type": "code",
   "execution_count": null,
   "id": "c491d455",
   "metadata": {},
   "outputs": [],
   "source": []
  }
 ],
 "metadata": {
  "kernelspec": {
   "display_name": "Python 3 (ipykernel)",
   "language": "python",
   "name": "python3"
  },
  "language_info": {
   "codemirror_mode": {
    "name": "ipython",
    "version": 3
   },
   "file_extension": ".py",
   "mimetype": "text/x-python",
   "name": "python",
   "nbconvert_exporter": "python",
   "pygments_lexer": "ipython3",
   "version": "3.9.13"
  }
 },
 "nbformat": 4,
 "nbformat_minor": 5
}
